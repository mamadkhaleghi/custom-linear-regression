{
 "cells": [
  {
   "cell_type": "code",
   "execution_count": 1,
   "id": "786ffd72",
   "metadata": {},
   "outputs": [],
   "source": [
    "import pandas as pd\n",
    "import numpy as np\n",
    "import pandas as pd\n",
    "import matplotlib.pyplot as plt\n",
    "import math\n",
    "np.random.seed(42)"
   ]
  },
  {
   "cell_type": "code",
   "execution_count": 1,
   "id": "e0d0e388",
   "metadata": {},
   "outputs": [],
   "source": [
    "from custom_linear_regression import CustomLinearRegression"
   ]
  },
  {
   "cell_type": "code",
   "execution_count": 222,
   "id": "a72412b9",
   "metadata": {},
   "outputs": [],
   "source": [
    "df = pd.read_csv('insurance.csv')\n",
    "#################################\n",
    "df['sex'].replace(['male','female'],[1,-1],inplace=True)\n",
    "df['smoker'].replace(['yes','no'],[1,-1],inplace=True)\n",
    "df['region'].replace(['southwest','southeast','northwest','northeast'],[-1,-1,+1,+1],inplace=True)"
   ]
  },
  {
   "cell_type": "code",
   "execution_count": 223,
   "id": "3fc82b31",
   "metadata": {},
   "outputs": [],
   "source": [
    "train_set = df.sample(frac=0.8, random_state=42)\n",
    "test_set  = df.drop(train_set.index)\n",
    "\n",
    "X_train =  train_set.iloc[:,:-1]\n",
    "Y_train =  train_set.iloc[:,-1]\n",
    "X_test  =   test_set.iloc[:,:-1]\n",
    "Y_test  =   test_set.iloc[:,-1]\n",
    "\n",
    "X_train = X_train.to_numpy()     # converting dataframe to numpy array\n",
    "X_test  = X_test.to_numpy()      \n",
    "Y_train = Y_train.to_numpy()     \n",
    "Y_test  = Y_test.to_numpy()      \n",
    "\n",
    "Y_train = Y_train.reshape(-1,1)  # reshaping set of desired outputs to become a vector\n",
    "Y_test  = Y_test .reshape(-1,1)\n"
   ]
  },
  {
   "cell_type": "code",
   "execution_count": 23,
   "id": "4496b5f2",
   "metadata": {},
   "outputs": [
    {
     "name": "stdout",
     "output_type": "stream",
     "text": [
      "Wall time: 1min 13s\n"
     ]
    }
   ],
   "source": [
    "%%time                                                            # batch Gradient Descent\n",
    "GD_model = CustomLinearRegression()\n",
    "GD_model.fit( X_train, Y_train, loss_fn=\"mse\", batch_size=np.shape(X_train)[0], lr=1e-5, max_iter=1000)"
   ]
  },
  {
   "cell_type": "code",
   "execution_count": 39,
   "id": "fefabbe3",
   "metadata": {},
   "outputs": [
    {
     "name": "stdout",
     "output_type": "stream",
     "text": [
      "Wall time: 173 ms\n"
     ]
    }
   ],
   "source": [
    "%%time                                                            # stochastic Gradient Descent\n",
    "SGD_model = CustomLinearRegression()\n",
    "SGD_model.fit( X_train, Y_train, loss_fn=\"mse\", batch_size=1 , lr=1e-5, max_iter=1000)"
   ]
  },
  {
   "cell_type": "code",
   "execution_count": 77,
   "id": "7f8829c1",
   "metadata": {},
   "outputs": [
    {
     "name": "stdout",
     "output_type": "stream",
     "text": [
      "Wall time: 359 ms\n"
     ]
    }
   ],
   "source": [
    "%%time                                                            # mini-batch Gradient Descent\n",
    "mini_model = CustomLinearRegression()\n",
    "mini_model.fit( X_train, Y_train, loss_fn=\"mse\", batch_size=4, lr=1e-5, max_iter=1000)"
   ]
  },
  {
   "cell_type": "code",
   "execution_count": 48,
   "id": "ea9c1ccd",
   "metadata": {},
   "outputs": [
    {
     "data": {
      "text/plain": [
       "0.12200563490620808"
      ]
     },
     "execution_count": 48,
     "metadata": {},
     "output_type": "execute_result"
    }
   ],
   "source": [
    "GD_model.score(X_test,Y_test)"
   ]
  },
  {
   "cell_type": "code",
   "execution_count": 49,
   "id": "090b1e2a",
   "metadata": {},
   "outputs": [
    {
     "data": {
      "text/plain": [
       "0.07693561381302871"
      ]
     },
     "execution_count": 49,
     "metadata": {},
     "output_type": "execute_result"
    }
   ],
   "source": [
    "SGD_model.score(X_test,Y_test)"
   ]
  },
  {
   "cell_type": "code",
   "execution_count": 78,
   "id": "b535231c",
   "metadata": {},
   "outputs": [
    {
     "data": {
      "text/plain": [
       "0.11771395050275979"
      ]
     },
     "execution_count": 78,
     "metadata": {},
     "output_type": "execute_result"
    }
   ],
   "source": [
    "mini_model.score(X_test,Y_test)"
   ]
  },
  {
   "cell_type": "code",
   "execution_count": 97,
   "id": "a35b0610",
   "metadata": {},
   "outputs": [
    {
     "data": {
      "image/png": "[encoded data removed]",
      "text/plain": [
       "<Figure size 1152x288 with 3 Axes>"
      ]
     },
     "metadata": {
      "needs_background": "light"
     },
     "output_type": "display_data"
    }
   ],
   "source": [
    "fig, ax = plt.subplots( 1 , 3,  figsize=(16, 4)  )\n",
    "\n",
    "ax[0].plot(GD_model.MSE_seq)\n",
    "ax[0].set_title(\"GD\")\n",
    "ax[0].set_xlabel('iteration')\n",
    "ax[0].set_ylabel('MSE')\n",
    "#---------------------------------------------------------------\n",
    "ax[1].plot(SGD_model.MSE_seq)\n",
    "ax[1].set_title(\"SGD\")\n",
    "ax[1].set_xlabel('iteration')\n",
    "#---------------------------------------------------------------\n",
    "ax[2].plot(mini_model.MSE_seq)\n",
    "ax[2].set_title(\"mini-batch GD\")\n",
    "ax[2].set_xlabel('iteration')\n",
    "#---------------------------------------------------------------\n",
    "fig.suptitle(\"Mean Square Error Decrese curve during Learning process\")      \n",
    "plt.show()"
   ]
  },
  {
   "cell_type": "code",
   "execution_count": 30,
   "id": "cb52cc5e",
   "metadata": {},
   "outputs": [
    {
     "name": "stdout",
     "output_type": "stream",
     "text": [
      "Wall time: 1min 12s\n"
     ]
    }
   ],
   "source": [
    "%%time\n",
    "GD_decreased_model = CustomLinearRegression()\n",
    "GD_decreased_model.fit( X_train, Y_train, loss_fn=\"mse\", batch_size=np.shape(X_train)[0], lr=1e-6, max_iter=1000)"
   ]
  },
  {
   "cell_type": "code",
   "execution_count": 33,
   "id": "aa7de9e1",
   "metadata": {},
   "outputs": [
    {
     "name": "stdout",
     "output_type": "stream",
     "text": [
      "Wall time: 161 ms\n"
     ]
    }
   ],
   "source": [
    "%%time\n",
    "SGD_decreased_model = CustomLinearRegression()\n",
    "SGD_decreased_model.fit( X_train, Y_train, loss_fn=\"mse\", batch_size=1 , lr=1e-6, max_iter=1000)"
   ]
  },
  {
   "cell_type": "code",
   "execution_count": 34,
   "id": "f328cabf",
   "metadata": {},
   "outputs": [
    {
     "name": "stdout",
     "output_type": "stream",
     "text": [
      "Wall time: 2.28 s\n"
     ]
    }
   ],
   "source": [
    "%%time\n",
    "mini_decreased_model = CustomLinearRegression()\n",
    "mini_decreased_model.fit( X_train, Y_train, loss_fn=\"mse\", batch_size=32, lr=1e-6, max_iter=1000)"
   ]
  },
  {
   "cell_type": "code",
   "execution_count": 65,
   "id": "57cf7df5",
   "metadata": {},
   "outputs": [
    {
     "name": "stdout",
     "output_type": "stream",
     "text": [
      "Wall time: 32.9 s\n"
     ]
    }
   ],
   "source": [
    "%%time\n",
    "GD_increased_model = CustomLinearRegression()\n",
    "GD_increased_model.fit( X_train, Y_train, loss_fn=\"mse\", batch_size=np.shape(X_train)[0], lr=1e-3, max_iter=450)"
   ]
  },
  {
   "cell_type": "code",
   "execution_count": 66,
   "id": "b30cfa79",
   "metadata": {},
   "outputs": [
    {
     "name": "stdout",
     "output_type": "stream",
     "text": [
      "Wall time: 78 ms\n"
     ]
    }
   ],
   "source": [
    "%%time\n",
    "SGD_increased_model = CustomLinearRegression()\n",
    "SGD_increased_model.fit( X_train, Y_train, loss_fn=\"mse\", batch_size=1 , lr=1e-3, max_iter=450)"
   ]
  },
  {
   "cell_type": "code",
   "execution_count": 67,
   "id": "75bc7f88",
   "metadata": {},
   "outputs": [
    {
     "name": "stdout",
     "output_type": "stream",
     "text": [
      "Wall time: 1.03 s\n"
     ]
    }
   ],
   "source": [
    "%%time\n",
    "mini_increased_model = CustomLinearRegression()\n",
    "mini_increased_model.fit( X_train, Y_train, loss_fn=\"mse\", batch_size=32, lr=1e-3, max_iter=450)"
   ]
  },
  {
   "cell_type": "code",
   "execution_count": 96,
   "id": "aa413c97",
   "metadata": {},
   "outputs": [
    {
     "data": {
      "image/png": "[encoded data removed]",
      "text/plain": [
       "<Figure size 1152x1080 with 9 Axes>"
      ]
     },
     "metadata": {
      "needs_background": "light"
     },
     "output_type": "display_data"
    }
   ],
   "source": [
    "fig, ax = plt.subplots( 3 , 3,  figsize=(16, 15)  )\n",
    "\n",
    "ax[0][0].plot(GD_model.MSE_seq)\n",
    "ax[0][0].set_title(\"GD\")\n",
    "ax[0][0].set_ylabel('MSE')\n",
    "#---------------------------------------------------------------\n",
    "ax[0][1].plot(SGD_model.MSE_seq)\n",
    "ax[0][1].set_title(\"SGD\")\n",
    "#---------------------------------------------------------------\n",
    "ax[0][2].plot(mini_model.MSE_seq)\n",
    "ax[0][2].set_title(\"mini-batch GD\")\n",
    "#---------------------------------------------------------------\n",
    "ax[1][0].plot(GD_decreased_model.MSE_seq)\n",
    "ax[1][0].set_title(\"learning rate decrease\")\n",
    "ax[1][0].set_ylabel('MSE')\n",
    "#---------------------------------------------------------------\n",
    "ax[1][1].plot(SGD_decreased_model.MSE_seq)\n",
    "ax[1][1].set_title(\"learning rate decrease\")\n",
    "#---------------------------------------------------------------\n",
    "ax[1][2].plot(mini_decreased_model.MSE_seq)\n",
    "ax[1][2].set_title(\"learning rate decrease\")\n",
    "#---------------------------------------------------------------\n",
    "ax[2][0].plot(GD_increased_model.MSE_seq)\n",
    "ax[2][0].set_title(\"learning rate increase\")\n",
    "ax[2][0].set_xlabel('iteration')\n",
    "ax[2][0].set_ylabel('MSE')\n",
    "#ax[2][0].set_ylim(bottom=1e8, top=1e16)\n",
    "\n",
    "#---------------------------------------------------------------\n",
    "ax[2][1].plot(SGD_increased_model.MSE_seq)\n",
    "ax[2][1].set_title(\"learning rate increase\")\n",
    "ax[2][1].set_xlabel('iteration')\n",
    "#ax[2][1].set_ylim(bottom=1e8, top=1e16)\n",
    "#---------------------------------------------------------------\n",
    "ax[2][2].plot(mini_increased_model.MSE_seq)\n",
    "ax[2][2].set_title(\"learning rate increase\")\n",
    "ax[2][2].set_xlabel('iteration')\n",
    "#ax[2][2].set_ylim(bottom=1e8, top=1e16)\n",
    "\n",
    "#---------------------------------------------------------------\n",
    "fig.suptitle(\"Mean Square Error Decrese curve during Learning process\")      \n",
    "plt.show()"
   ]
  },
  {
   "cell_type": "code",
   "execution_count": 70,
   "id": "413b1e39",
   "metadata": {},
   "outputs": [],
   "source": [
    "def Normalize(X):                                             # Scaling\n",
    "    n = np.shape(X)[1] \n",
    "    \n",
    "    for i in range(n):\n",
    "        minimum = np.min(X[:,i])\n",
    "        maximum = np.max(X[:,i])\n",
    "        X[:,i] = ( X[:,i] - minimum) / (maximum - minimum)\n",
    "        \n",
    "    return X"
   ]
  },
  {
   "cell_type": "code",
   "execution_count": 87,
   "id": "da562ef0",
   "metadata": {},
   "outputs": [],
   "source": [
    "X = np.vstack((X_train,X_test))\n",
    "Xn , Yn = Normalize(X , Y)\n",
    "\n",
    "l = int(len(X)*.8)      # number of trainin data (80% of dataset)\n",
    "\n",
    "Xn_train = Xn[:l+1,:]   # normalized training input\n",
    "Xn_test =  Xn[l+1:,:]   # normalized testing input"
   ]
  },
  {
   "cell_type": "code",
   "execution_count": 88,
   "id": "d977b914",
   "metadata": {},
   "outputs": [
    {
     "name": "stdout",
     "output_type": "stream",
     "text": [
      "Wall time: 37 s\n"
     ]
    }
   ],
   "source": [
    "%%time\n",
    "Norm_GD = CustomLinearRegression()\n",
    "Norm_GD.fit( Xn_train, Yn_train, loss_fn=\"mse\", batch_size=np.shape(Xn_train)[0], lr=1e-5, max_iter=500)"
   ]
  },
  {
   "cell_type": "code",
   "execution_count": 80,
   "id": "7e97b9cf",
   "metadata": {},
   "outputs": [
    {
     "name": "stdout",
     "output_type": "stream",
     "text": [
      "Wall time: 85.9 ms\n"
     ]
    }
   ],
   "source": [
    "%%time\n",
    "Norm_SGD = CustomLinearRegression()\n",
    "Norm_SGD.fit( Xn_train, Yn_train, loss_fn=\"mse\", batch_size=1 , lr=1e-5, max_iter=500)"
   ]
  },
  {
   "cell_type": "code",
   "execution_count": 81,
   "id": "9a821ce9",
   "metadata": {},
   "outputs": [
    {
     "name": "stdout",
     "output_type": "stream",
     "text": [
      "Wall time: 1.16 s\n"
     ]
    }
   ],
   "source": [
    "%%time\n",
    "Norm_mini = CustomLinearRegression()\n",
    "Norm_mini.fit( Xn_train, Yn_train, loss_fn=\"mse\", batch_size=32, lr=1e-5, max_iter=500)"
   ]
  },
  {
   "cell_type": "code",
   "execution_count": 95,
   "id": "77ba7c4c",
   "metadata": {},
   "outputs": [
    {
     "data": {
      "image/png": "[encoded data removed]",
      "text/plain": [
       "<Figure size 1152x576 with 6 Axes>"
      ]
     },
     "metadata": {
      "needs_background": "light"
     },
     "output_type": "display_data"
    }
   ],
   "source": [
    "fig, ax = plt.subplots( 2 , 3,  figsize=(16, 8)  )\n",
    "\n",
    "ax[0][0].plot(GD_model.MSE_seq)\n",
    "ax[0][0].set_title(\"GD\")\n",
    "ax[0][0].set_ylabel('MSE')\n",
    "#---------------------------------------------------------------\n",
    "ax[0][1].plot(SGD_model.MSE_seq)\n",
    "ax[0][1].set_title(\"SGD\")\n",
    "#---------------------------------------------------------------\n",
    "ax[0][2].plot(mini_model.MSE_seq)\n",
    "ax[0][2].set_title(\"mini-batch GD\")\n",
    "#---------------------------------------------------------------\n",
    "ax[1][0].plot(Norm_GD.MSE_seq)\n",
    "ax[1][0].set_title(\" Normalized Input \")\n",
    "ax[1][0].set_ylabel('MSE')\n",
    "ax[1][0].set_xlabel('iteration')\n",
    "#---------------------------------------------------------------\n",
    "ax[1][1].plot(Norm_SGD.MSE_seq)\n",
    "ax[1][1].set_title(\"Normalized Input\")\n",
    "ax[1][1].set_xlabel('iteration')\n",
    "#---------------------------------------------------------------\n",
    "ax[1][2].plot(Norm_mini.MSE_seq)\n",
    "ax[1][2].set_title(\"Normalized Input\")\n",
    "ax[1][2].set_xlabel('iteration')\n",
    "#---------------------------------------------------------------\n",
    "fig.suptitle(\"Mean Square Error Decrese curve during Learning process\")      \n",
    "plt.show()"
   ]
  },
  {
   "cell_type": "code",
   "execution_count": 89,
   "id": "f5163483",
   "metadata": {},
   "outputs": [
    {
     "name": "stdout",
     "output_type": "stream",
     "text": [
      "Wall time: 8.99 ms\n"
     ]
    }
   ],
   "source": [
    "%%time\n",
    "OLS_model = CustomLinearRegression()\n",
    "OLS_model.fit_lsqr( X_train, Y_train)"
   ]
  },
  {
   "cell_type": "code",
   "execution_count": 94,
   "id": "afd22a22",
   "metadata": {},
   "outputs": [
    {
     "data": {
      "text/plain": [
       "0.751545176361558"
      ]
     },
     "execution_count": 94,
     "metadata": {},
     "output_type": "execute_result"
    }
   ],
   "source": [
    "OLS_model.score(X_test,Y_test)       # ordinary least square"
   ]
  },
  {
   "cell_type": "code",
   "execution_count": 91,
   "id": "f4893dd1",
   "metadata": {},
   "outputs": [
    {
     "data": {
      "text/plain": [
       "0.12200563490620808"
      ]
     },
     "execution_count": 91,
     "metadata": {},
     "output_type": "execute_result"
    }
   ],
   "source": [
    "GD_model.score(X_test,Y_test)         # batch GD"
   ]
  },
  {
   "cell_type": "code",
   "execution_count": 92,
   "id": "02dd6f9f",
   "metadata": {},
   "outputs": [
    {
     "data": {
      "text/plain": [
       "0.07693561381302871"
      ]
     },
     "execution_count": 92,
     "metadata": {},
     "output_type": "execute_result"
    }
   ],
   "source": [
    "SGD_model.score(X_test,Y_test)        # SGD"
   ]
  },
  {
   "cell_type": "code",
   "execution_count": 93,
   "id": "b0067a42",
   "metadata": {},
   "outputs": [
    {
     "data": {
      "text/plain": [
       "0.11771395050275979"
      ]
     },
     "execution_count": 93,
     "metadata": {},
     "output_type": "execute_result"
    }
   ],
   "source": [
    "mini_model.score(X_test,Y_test)       # mini-batch GD"
   ]
  },
  {
   "cell_type": "code",
   "execution_count": 220,
   "id": "ce9e47df",
   "metadata": {},
   "outputs": [],
   "source": [
    "from sklearn.linear_model    import LinearRegression"
   ]
  },
  {
   "cell_type": "code",
   "execution_count": 224,
   "id": "ed110b99",
   "metadata": {},
   "outputs": [
    {
     "data": {
      "text/plain": [
       "LinearRegression()"
      ]
     },
     "execution_count": 224,
     "metadata": {},
     "output_type": "execute_result"
    }
   ],
   "source": [
    "regressor = LinearRegression()\n",
    "regressor.fit(X_train, Y_train)"
   ]
  },
  {
   "cell_type": "code",
   "execution_count": 225,
   "id": "638d2a22",
   "metadata": {},
   "outputs": [
    {
     "data": {
      "text/plain": [
       "0.751545176361558"
      ]
     },
     "execution_count": 225,
     "metadata": {},
     "output_type": "execute_result"
    }
   ],
   "source": [
    "regressor.score(X_test, Y_test)"
   ]
  },
  {
   "cell_type": "code",
   "execution_count": 229,
   "id": "48c7b806",
   "metadata": {},
   "outputs": [],
   "source": [
    "batch_model = CustomLinearRegression()\n",
    "batch_model.fit( X_train, Y_train, loss_fn=\"mse\", batch_size=np.shape(X_train)[0], lr=1e-4, max_iter=2000)"
   ]
  },
  {
   "cell_type": "code",
   "execution_count": 227,
   "id": "da9445ba",
   "metadata": {},
   "outputs": [
    {
     "data": {
      "text/plain": [
       "0.25314231587148406"
      ]
     },
     "execution_count": 227,
     "metadata": {},
     "output_type": "execute_result"
    }
   ],
   "source": [
    "batch_model.score(X_test, Y_test)"
   ]
  },
  {
   "cell_type": "code",
   "execution_count": 184,
   "id": "e3c04dd0",
   "metadata": {},
   "outputs": [],
   "source": [
    "np.random.seed(42)\n",
    "\n",
    "def underlying_fn(X):\n",
    "    f_x = X**3\n",
    "    return f_x\n",
    "\n",
    "def make_dataset(u_fn=underlying_fn, noise_std=1, samples_min=0, samples_max=10, n_samples=50):\n",
    "    X = np.linspace(start=samples_min, stop=samples_max, num=n_samples)\n",
    "    y = u_fn(X)\n",
    "    y += np.random.normal(0, noise_std, y.shape)\n",
    "    return X, y"
   ]
  },
  {
   "cell_type": "code",
   "execution_count": 185,
   "id": "fc9e851f",
   "metadata": {},
   "outputs": [],
   "source": [
    "X,y = make_dataset(u_fn=underlying_fn, noise_std=1, samples_min=0, samples_max=10, n_samples=30)\n",
    "X = X.reshape(-1,1)\n",
    "y = y.reshape(-1,1)"
   ]
  },
  {
   "cell_type": "code",
   "execution_count": 5,
   "id": "e8339f36",
   "metadata": {},
   "outputs": [],
   "source": [
    "def sample(X, y, test_size):                               # returns a randomly shuffled train and date set \n",
    "                                                           # X is assumed as a matrix  y is assumed as a vector\n",
    "    train_size = np.shape(X)[0] - test_size\n",
    "    \n",
    "    data = np.hstack((X, y))\n",
    "    np.random.shuffle(data)                                # shuffling the data\n",
    "    \n",
    "    X_train = data[0:train_size, :-1]\n",
    "    y_train = data[0:train_size, -1].reshape(-1,1)\n",
    "    \n",
    "    X_test = data[train_size:, :-1]\n",
    "    y_test = data[train_size:, -1].reshape(-1,1)\n",
    "    \n",
    "    return X_train, X_test, y_train, y_test"
   ]
  },
  {
   "cell_type": "code",
   "execution_count": 186,
   "id": "f272b8fc",
   "metadata": {},
   "outputs": [],
   "source": [
    "trainX, testX, trainY, testY = sample(X, y, 10)"
   ]
  },
  {
   "cell_type": "code",
   "execution_count": 7,
   "id": "6fd1574e",
   "metadata": {},
   "outputs": [
    {
     "name": "stdout",
     "output_type": "stream",
     "text": [
      "Wall time: 425 ms\n"
     ]
    }
   ],
   "source": [
    "%%time\n",
    "GD_model2 = CustomLinearRegression()\n",
    "GD_model2.fit( trainX, trainY, loss_fn=\"mse\", batch_size=np.shape(trainX)[0], lr=1e-5, max_iter=1000)"
   ]
  },
  {
   "cell_type": "code",
   "execution_count": 9,
   "id": "6f5f37ec",
   "metadata": {},
   "outputs": [],
   "source": [
    "def MSE(X,Y,W,b):\n",
    "    return np.mean( (X@W-Y)**2  ) /2"
   ]
  },
  {
   "cell_type": "code",
   "execution_count": 10,
   "id": "6647442c",
   "metadata": {},
   "outputs": [
    {
     "data": {
      "text/plain": [
       "24506.774754765975"
      ]
     },
     "execution_count": 10,
     "metadata": {},
     "output_type": "execute_result"
    }
   ],
   "source": [
    "MSE(testX, testY, GD_model2.coefs_, GD_model2.intercept_ )"
   ]
  },
  {
   "cell_type": "code",
   "execution_count": 15,
   "id": "d0338f7f",
   "metadata": {},
   "outputs": [
    {
     "data": {
      "text/plain": [
       "0.23466457251191308"
      ]
     },
     "execution_count": 15,
     "metadata": {},
     "output_type": "execute_result"
    }
   ],
   "source": [
    "GD_model2.score(testX, testY)"
   ]
  },
  {
   "cell_type": "code",
   "execution_count": 14,
   "id": "e4f0418d",
   "metadata": {},
   "outputs": [],
   "source": [
    "def quadratic(X, k):                       ## adding quadratic feature columns to X\n",
    "        m = np.shape(X)[0]\n",
    "        W = np.random.random([k+1,1])\n",
    "        \n",
    "        X=np.hstack( ( np.ones([m,1]) , X ))\n",
    "        \n",
    "        #################################### adding quadratic feature columns to X\n",
    "        for i in range(k-1):\n",
    "            quad = ( X[:,1] **(i+2) ).reshape(-1,1) # creating quadratic column\n",
    "            \n",
    "            quad = (1/(np.max(quad)-np.min(quad)))*(quad-np.min(quad)) #normalizing quadratic features to avoiding from overflow\n",
    "            \n",
    "            X=np.hstack( ( X , quad ) )\n",
    "        return X"
   ]
  },
  {
   "cell_type": "code",
   "execution_count": 202,
   "id": "1000a204",
   "metadata": {},
   "outputs": [],
   "source": [
    "quadX_train_3 = quadratic(trainX,3)        # creating 3-order quadratic set\n",
    "quadX_test_3  = quadratic(testX,3)"
   ]
  },
  {
   "cell_type": "code",
   "execution_count": 203,
   "id": "44171731",
   "metadata": {},
   "outputs": [],
   "source": [
    "# learning with GD and MSE\n",
    "quad_model_3 = CustomLinearRegression()\n",
    "quad_model_3.fit( quadX_train_3, trainY, loss_fn=\"mse\", batch_size=np.shape(quadX_train_3)[0], lr=1e-5, max_iter=4000)"
   ]
  },
  {
   "cell_type": "code",
   "execution_count": 204,
   "id": "2886d394",
   "metadata": {},
   "outputs": [
    {
     "data": {
      "text/plain": [
       "0.5938347400219697"
      ]
     },
     "execution_count": 204,
     "metadata": {},
     "output_type": "execute_result"
    }
   ],
   "source": [
    "quad_model_3.score(quadX_test_3, testY)"
   ]
  },
  {
   "cell_type": "code",
   "execution_count": 205,
   "id": "eee65453",
   "metadata": {},
   "outputs": [
    {
     "data": {
      "image/png": "[encoded data removed]",
      "text/plain": [
       "<Figure size 1008x288 with 2 Axes>"
      ]
     },
     "metadata": {
      "needs_background": "light"
     },
     "output_type": "display_data"
    }
   ],
   "source": [
    "fig, ax = plt.subplots( 1 , 2,  figsize=(14, 4)  )\n",
    "\n",
    "ax[0].plot(testX, testY, 'o', label=\"data\")\n",
    "ax[0].plot(testX, quad_model_3.predict(quadX_test_3), 'o', label=\"prediction\")\n",
    "ax[0].set_xlabel('input')\n",
    "ax[0].set_ylabel('output')\n",
    "ax[0].legend(loc='best')\n",
    "#---------------------------------------------------------------\n",
    "ax[1].plot(quad_model_3.MSE_seq)\n",
    "ax[1].set_ylabel('MSE')\n",
    "ax[1].set_xlabel('iteration')\n",
    "#---------------------------------------------------------------\n",
    "plt.show()"
   ]
  },
  {
   "cell_type": "code",
   "execution_count": 187,
   "id": "a254b356",
   "metadata": {},
   "outputs": [],
   "source": [
    "quadX_train_5 = quadratic(trainX,5)        # creating 5-order quadratic set\n",
    "quadX_test_5  = quadratic(testX,5)"
   ]
  },
  {
   "cell_type": "code",
   "execution_count": 195,
   "id": "960204f7",
   "metadata": {},
   "outputs": [],
   "source": [
    "# learning with GD and MSE\n",
    "quad_model_5 = CustomLinearRegression()\n",
    "quad_model_5.fit( quadX_train_5, trainY, loss_fn=\"mse\", batch_size=np.shape(quadX_train_5)[0], lr=1e-4, max_iter=4000)"
   ]
  },
  {
   "cell_type": "code",
   "execution_count": 196,
   "id": "0a3f451a",
   "metadata": {},
   "outputs": [
    {
     "data": {
      "text/plain": [
       "0.7256783209007136"
      ]
     },
     "execution_count": 196,
     "metadata": {},
     "output_type": "execute_result"
    }
   ],
   "source": [
    "quad_model_5.score(quadX_test_5, testY)"
   ]
  },
  {
   "cell_type": "code",
   "execution_count": 197,
   "id": "ea33331a",
   "metadata": {},
   "outputs": [
    {
     "data": {
      "image/png": "[encoded data removed]",
      "text/plain": [
       "<Figure size 1008x288 with 2 Axes>"
      ]
     },
     "metadata": {
      "needs_background": "light"
     },
     "output_type": "display_data"
    }
   ],
   "source": [
    "fig, ax = plt.subplots( 1 , 2,  figsize=(14, 4)  )\n",
    "\n",
    "ax[0].plot(testX, testY, 'o', label=\"data\")\n",
    "ax[0].plot(testX, quad_model_5.predict(quadX_test_5), 'o', label=\"prediction\")\n",
    "ax[0].set_xlabel('input')\n",
    "ax[0].set_ylabel('output')\n",
    "ax[0].legend(loc='best')\n",
    "#---------------------------------------------------------------\n",
    "ax[1].plot(quad_model_5.MSE_seq)\n",
    "ax[1].set_ylabel('MSE')\n",
    "ax[1].set_xlabel('iteration')\n",
    "#---------------------------------------------------------------\n",
    "plt.show()"
   ]
  },
  {
   "cell_type": "code",
   "execution_count": 191,
   "id": "394c5ff0",
   "metadata": {},
   "outputs": [],
   "source": [
    "quadX_train_7 = quadratic(trainX,7)        # creating 7-order quadratic set\n",
    "quadX_test_7  = quadratic(testX,7)"
   ]
  },
  {
   "cell_type": "code",
   "execution_count": 192,
   "id": "4abbe01d",
   "metadata": {},
   "outputs": [],
   "source": [
    "# learning with GD and MSE\n",
    "quad_model_7 = CustomLinearRegression()\n",
    "quad_model_7.fit( quadX_train_7, trainY, loss_fn=\"mse\", batch_size=np.shape(quadX_train_7)[0], lr=1e-4, max_iter=4000)"
   ]
  },
  {
   "cell_type": "code",
   "execution_count": 193,
   "id": "eba40d9e",
   "metadata": {},
   "outputs": [
    {
     "data": {
      "text/plain": [
       "0.7450548572551925"
      ]
     },
     "execution_count": 193,
     "metadata": {},
     "output_type": "execute_result"
    }
   ],
   "source": [
    "quad_model_7.score(quadX_test_7, testY)"
   ]
  },
  {
   "cell_type": "code",
   "execution_count": 194,
   "id": "c102c036",
   "metadata": {},
   "outputs": [
    {
     "data": {
      "image/png": "[encoded data removed]",
      "text/plain": [
       "<Figure size 1008x288 with 2 Axes>"
      ]
     },
     "metadata": {
      "needs_background": "light"
     },
     "output_type": "display_data"
    }
   ],
   "source": [
    "fig, ax = plt.subplots( 1 , 2,  figsize=(14, 4)  )\n",
    "\n",
    "ax[0].plot(testX, testY, 'o', label=\"data\")\n",
    "ax[0].plot(testX, quad_model_7.predict(quadX_test_7), 'o', label=\"prediction\")\n",
    "ax[0].set_xlabel('input')\n",
    "ax[0].set_ylabel('output')\n",
    "ax[0].legend(loc='best')\n",
    "#---------------------------------------------------------------\n",
    "ax[1].plot(quad_model_7.MSE_seq)\n",
    "ax[1].set_ylabel('MSE')\n",
    "ax[1].set_xlabel('iteration')\n",
    "#---------------------------------------------------------------\n",
    "plt.show()"
   ]
  },
  {
   "cell_type": "code",
   "execution_count": 133,
   "id": "905a2533",
   "metadata": {},
   "outputs": [],
   "source": [
    "quadX_train_10 = quadratic(trainX,10)        # creating 10-order quadratic set\n",
    "quadX_test_10  = quadratic(testX,10)"
   ]
  },
  {
   "cell_type": "code",
   "execution_count": 134,
   "id": "dd9a8f2e",
   "metadata": {},
   "outputs": [],
   "source": [
    "# learning with GD and MSE\n",
    "quad_model_10_L1 = CustomLinearRegression()\n",
    "quad_model_10_L1.fit( quadX_train_10, trainY, regularization='L1', lambd=1000, loss_fn=\"mse\", batch_size=np.shape(quadX_train_10)[0], lr=1e-5, max_iter=1000)"
   ]
  },
  {
   "cell_type": "code",
   "execution_count": 136,
   "id": "443cc53e",
   "metadata": {},
   "outputs": [],
   "source": [
    "# learning with GD and MSE\n",
    "quad_model_10_L2 = CustomLinearRegression()\n",
    "quad_model_10_L2.fit( quadX_train_10, trainY, regularization='L2', lambd=1000, loss_fn=\"mse\", batch_size=np.shape(quadX_train_10)[0], lr=1e-5, max_iter=1000)"
   ]
  },
  {
   "cell_type": "code",
   "execution_count": 206,
   "id": "d78ea9a6",
   "metadata": {},
   "outputs": [
    {
     "name": "stdout",
     "output_type": "stream",
     "text": [
      "L1| 10-order-weights\n",
      " [[ 1.09951268e-02  9.90017660e+00  5.94060890e-03 -1.94594621e-04\n",
      "   5.12007029e-03 -2.86896009e-03  3.18300347e-04  3.65636156e-03\n",
      "  -4.65741293e-04  6.31071704e-03  3.43772999e-03]]\n",
      "--------------------------------------------------------------\n",
      "7-order-weights\n",
      " [[-8.39704391 59.27203278 10.92725933 12.1003485  12.63106628 12.26019102\n",
      "  12.03063252 11.61991908]]\n"
     ]
    }
   ],
   "source": [
    "print(\"L1| 10-order-weights\\n\",quad_model_10_L1.coefs_.reshape(1,-1))\n",
    "print('--------------------------------------------------------------')\n",
    "print(\"7-order-weights\\n\",quad_model_7.coefs_.reshape(1,-1))"
   ]
  },
  {
   "cell_type": "code",
   "execution_count": 44,
   "id": "479485dd",
   "metadata": {},
   "outputs": [
    {
     "name": "stdout",
     "output_type": "stream",
     "text": [
      "L2| 10-order-weights\n",
      " [[0.28094668 2.32821941 0.19991356 0.17801281 0.16131317 0.14836638\n",
      "  0.13808741 0.12964894 0.12260513 0.11664985 0.11146389]]\n",
      "--------------------------------------------------------------\n",
      "5-order-weights\n",
      " [[ 2.91111583 20.50874437  2.52512244  1.73631225  2.30746746  1.84755011]]\n"
     ]
    }
   ],
   "source": [
    "print(\"L2| 10-order-weights\\n\",quad_model_10_L2.coefs_.reshape(1,-1))\n",
    "print('--------------------------------------------------------------')\n",
    "print(\"7-order-weights\\n\",quad_model_7.coefs_.reshape(1,-1))"
   ]
  },
  {
   "cell_type": "code",
   "execution_count": 209,
   "id": "ba1abfc1",
   "metadata": {},
   "outputs": [],
   "source": [
    "def underlying_fn(X):\n",
    "    f_x = np.cos(X) \n",
    "    return f_x"
   ]
  },
  {
   "cell_type": "code",
   "execution_count": 210,
   "id": "dc51d749",
   "metadata": {},
   "outputs": [],
   "source": [
    "X,y = make_dataset(u_fn=underlying_fn, noise_std=1, samples_min=0, samples_max=10, n_samples=30)\n",
    "X = X.reshape(-1,1)\n",
    "y = y.reshape(-1,1)"
   ]
  },
  {
   "cell_type": "code",
   "execution_count": 211,
   "id": "6c661215",
   "metadata": {},
   "outputs": [],
   "source": [
    "trainX, testX, trainY, testY = sample(X, y, 10)"
   ]
  },
  {
   "cell_type": "code",
   "execution_count": 212,
   "id": "b314deef",
   "metadata": {},
   "outputs": [],
   "source": [
    "# learning with GD and MSE\n",
    "quad_model_3 = CustomLinearRegression()\n",
    "quad_model_3.fit( quadX_train_3, trainY, loss_fn=\"mse\", batch_size=np.shape(quadX_train_3)[0], lr=1e-4, max_iter=2000)"
   ]
  },
  {
   "cell_type": "code",
   "execution_count": 213,
   "id": "832d51f1",
   "metadata": {},
   "outputs": [
    {
     "data": {
      "image/png": "[encoded data removed]",
      "text/plain": [
       "<Figure size 1008x288 with 2 Axes>"
      ]
     },
     "metadata": {
      "needs_background": "light"
     },
     "output_type": "display_data"
    }
   ],
   "source": [
    "fig, ax = plt.subplots( 1 , 2,  figsize=(14, 4)  )\n",
    "\n",
    "ax[0].plot(testX, testY, 'o', label=\"data\")\n",
    "ax[0].plot(testX, quad_model_3.predict(quadX_test_3), 'o', label=\"prediction\")\n",
    "ax[0].set_xlabel('input')\n",
    "ax[0].set_ylabel('output')\n",
    "ax[0].legend(loc='best')\n",
    "#---------------------------------------------------------------\n",
    "ax[1].plot(quad_model_3.MSE_seq)\n",
    "ax[1].set_ylabel('MSE')\n",
    "ax[1].set_xlabel('iteration')\n",
    "#---------------------------------------------------------------\n",
    "plt.show()"
   ]
  },
  {
   "cell_type": "code",
   "execution_count": 214,
   "id": "a0d5f625",
   "metadata": {},
   "outputs": [],
   "source": [
    "quadX_train_5 = quadratic(trainX,5)        # creating 5-order quadratic set\n",
    "quadX_test_5  = quadratic(testX,5)"
   ]
  },
  {
   "cell_type": "code",
   "execution_count": 215,
   "id": "b20cfc71",
   "metadata": {},
   "outputs": [],
   "source": [
    "# learning with GD and MSE\n",
    "quad_model_5 = CustomLinearRegression()\n",
    "quad_model_5.fit( quadX_train_5, trainY, loss_fn=\"mse\", batch_size=np.shape(quadX_train_5)[0], lr=1e-4, max_iter=2000)"
   ]
  },
  {
   "cell_type": "code",
   "execution_count": 216,
   "id": "9a9ac81b",
   "metadata": {},
   "outputs": [
    {
     "data": {
      "image/png": "[encoded data removed]",
      "text/plain": [
       "<Figure size 1008x288 with 2 Axes>"
      ]
     },
     "metadata": {
      "needs_background": "light"
     },
     "output_type": "display_data"
    }
   ],
   "source": [
    "fig, ax = plt.subplots( 1 , 2,  figsize=(14, 4)  )\n",
    "\n",
    "ax[0].plot(testX, testY, 'o', label=\"data\")\n",
    "ax[0].plot(testX, quad_model_5.predict(quadX_test_5), 'o', label=\"prediction\")\n",
    "ax[0].set_xlabel('input')\n",
    "ax[0].set_ylabel('output')\n",
    "ax[0].legend(loc='best')\n",
    "#---------------------------------------------------------------\n",
    "ax[1].plot(quad_model_5.MSE_seq)\n",
    "ax[1].set_ylabel('MSE')\n",
    "ax[1].set_xlabel('iteration')\n",
    "#---------------------------------------------------------------\n",
    "plt.show()"
   ]
  },
  {
   "cell_type": "code",
   "execution_count": 217,
   "id": "73cbcdd1",
   "metadata": {},
   "outputs": [],
   "source": [
    "quadX_train_7 = quadratic(trainX,7)        # creating 7-order quadratic set\n",
    "quadX_test_7  = quadratic(testX,7)"
   ]
  },
  {
   "cell_type": "code",
   "execution_count": 218,
   "id": "2c6e2fe2",
   "metadata": {},
   "outputs": [],
   "source": [
    "# learning with GD and MSE\n",
    "quad_model_7 = CustomLinearRegression()\n",
    "quad_model_7.fit( quadX_train_7, trainY, loss_fn=\"mse\", batch_size=np.shape(quadX_train_7)[0], lr=1e-4, max_iter=2000)"
   ]
  },
  {
   "cell_type": "code",
   "execution_count": 219,
   "id": "2c8f7e06",
   "metadata": {},
   "outputs": [
    {
     "data": {
      "image/png": "[encoded data removed]",
      "text/plain": [
       "<Figure size 1008x288 with 2 Axes>"
      ]
     },
     "metadata": {
      "needs_background": "light"
     },
     "output_type": "display_data"
    }
   ],
   "source": [
    "fig, ax = plt.subplots( 1 , 2,  figsize=(14, 4)  )\n",
    "\n",
    "ax[0].plot(testX, testY, 'o', label=\"data\")\n",
    "ax[0].plot(testX, quad_model_7.predict(quadX_test_7), 'o', label=\"prediction\")\n",
    "ax[0].set_xlabel('input')\n",
    "ax[0].set_ylabel('output')\n",
    "ax[0].legend(loc='best')\n",
    "#---------------------------------------------------------------\n",
    "ax[1].plot(quad_model_7.MSE_seq)\n",
    "ax[1].set_ylabel('MSE')\n",
    "ax[1].set_xlabel('iteration')\n",
    "#---------------------------------------------------------------\n",
    "plt.show()"
   ]
  },
  {
   "cell_type": "code",
   "execution_count": 14,
   "id": "5321dd20",
   "metadata": {},
   "outputs": [],
   "source": [
    "DF = pd.read_csv('rideshare_kaggle.csv')"
   ]
  },
  {
   "cell_type": "code",
   "execution_count": 3,
   "id": "9f9b0b17",
   "metadata": {
    "collapsed": true
   },
   "outputs": [
    {
     "data": {
      "text/html": [
       "<div>\n",
       "<style scoped>\n",
       "    .dataframe tbody tr th:only-of-type {\n",
       "        vertical-align: middle;\n",
       "    }\n",
       "\n",
       "    .dataframe tbody tr th {\n",
       "        vertical-align: top;\n",
       "    }\n",
       "\n",
       "    .dataframe thead th {\n",
       "        text-align: right;\n",
       "    }\n",
       "</style>\n",
       "<table border=\"1\" class=\"dataframe\">\n",
       "  <thead>\n",
       "    <tr style=\"text-align: right;\">\n",
       "      <th></th>\n",
       "      <th>id</th>\n",
       "      <th>timestamp</th>\n",
       "      <th>hour</th>\n",
       "      <th>day</th>\n",
       "      <th>month</th>\n",
       "      <th>datetime</th>\n",
       "      <th>timezone</th>\n",
       "      <th>source</th>\n",
       "      <th>destination</th>\n",
       "      <th>cab_type</th>\n",
       "      <th>...</th>\n",
       "      <th>precipIntensityMax</th>\n",
       "      <th>uvIndexTime</th>\n",
       "      <th>temperatureMin</th>\n",
       "      <th>temperatureMinTime</th>\n",
       "      <th>temperatureMax</th>\n",
       "      <th>temperatureMaxTime</th>\n",
       "      <th>apparentTemperatureMin</th>\n",
       "      <th>apparentTemperatureMinTime</th>\n",
       "      <th>apparentTemperatureMax</th>\n",
       "      <th>apparentTemperatureMaxTime</th>\n",
       "    </tr>\n",
       "  </thead>\n",
       "  <tbody>\n",
       "    <tr>\n",
       "      <th>0</th>\n",
       "      <td>424553bb-7174-41ea-aeb4-fe06d4f4b9d7</td>\n",
       "      <td>1.544953e+09</td>\n",
       "      <td>9</td>\n",
       "      <td>16</td>\n",
       "      <td>12</td>\n",
       "      <td>2018-12-16 09:30:07</td>\n",
       "      <td>America/New_York</td>\n",
       "      <td>Haymarket Square</td>\n",
       "      <td>North Station</td>\n",
       "      <td>Lyft</td>\n",
       "      <td>...</td>\n",
       "      <td>0.1276</td>\n",
       "      <td>1544979600</td>\n",
       "      <td>39.89</td>\n",
       "      <td>1545012000</td>\n",
       "      <td>43.68</td>\n",
       "      <td>1544968800</td>\n",
       "      <td>33.73</td>\n",
       "      <td>1545012000</td>\n",
       "      <td>38.07</td>\n",
       "      <td>1544958000</td>\n",
       "    </tr>\n",
       "    <tr>\n",
       "      <th>1</th>\n",
       "      <td>4bd23055-6827-41c6-b23b-3c491f24e74d</td>\n",
       "      <td>1.543284e+09</td>\n",
       "      <td>2</td>\n",
       "      <td>27</td>\n",
       "      <td>11</td>\n",
       "      <td>2018-11-27 02:00:23</td>\n",
       "      <td>America/New_York</td>\n",
       "      <td>Haymarket Square</td>\n",
       "      <td>North Station</td>\n",
       "      <td>Lyft</td>\n",
       "      <td>...</td>\n",
       "      <td>0.1300</td>\n",
       "      <td>1543251600</td>\n",
       "      <td>40.49</td>\n",
       "      <td>1543233600</td>\n",
       "      <td>47.30</td>\n",
       "      <td>1543251600</td>\n",
       "      <td>36.20</td>\n",
       "      <td>1543291200</td>\n",
       "      <td>43.92</td>\n",
       "      <td>1543251600</td>\n",
       "    </tr>\n",
       "    <tr>\n",
       "      <th>2</th>\n",
       "      <td>981a3613-77af-4620-a42a-0c0866077d1e</td>\n",
       "      <td>1.543367e+09</td>\n",
       "      <td>1</td>\n",
       "      <td>28</td>\n",
       "      <td>11</td>\n",
       "      <td>2018-11-28 01:00:22</td>\n",
       "      <td>America/New_York</td>\n",
       "      <td>Haymarket Square</td>\n",
       "      <td>North Station</td>\n",
       "      <td>Lyft</td>\n",
       "      <td>...</td>\n",
       "      <td>0.1064</td>\n",
       "      <td>1543338000</td>\n",
       "      <td>35.36</td>\n",
       "      <td>1543377600</td>\n",
       "      <td>47.55</td>\n",
       "      <td>1543320000</td>\n",
       "      <td>31.04</td>\n",
       "      <td>1543377600</td>\n",
       "      <td>44.12</td>\n",
       "      <td>1543320000</td>\n",
       "    </tr>\n",
       "    <tr>\n",
       "      <th>3</th>\n",
       "      <td>c2d88af2-d278-4bfd-a8d0-29ca77cc5512</td>\n",
       "      <td>1.543554e+09</td>\n",
       "      <td>4</td>\n",
       "      <td>30</td>\n",
       "      <td>11</td>\n",
       "      <td>2018-11-30 04:53:02</td>\n",
       "      <td>America/New_York</td>\n",
       "      <td>Haymarket Square</td>\n",
       "      <td>North Station</td>\n",
       "      <td>Lyft</td>\n",
       "      <td>...</td>\n",
       "      <td>0.0000</td>\n",
       "      <td>1543507200</td>\n",
       "      <td>34.67</td>\n",
       "      <td>1543550400</td>\n",
       "      <td>45.03</td>\n",
       "      <td>1543510800</td>\n",
       "      <td>30.30</td>\n",
       "      <td>1543550400</td>\n",
       "      <td>38.53</td>\n",
       "      <td>1543510800</td>\n",
       "    </tr>\n",
       "    <tr>\n",
       "      <th>4</th>\n",
       "      <td>e0126e1f-8ca9-4f2e-82b3-50505a09db9a</td>\n",
       "      <td>1.543463e+09</td>\n",
       "      <td>3</td>\n",
       "      <td>29</td>\n",
       "      <td>11</td>\n",
       "      <td>2018-11-29 03:49:20</td>\n",
       "      <td>America/New_York</td>\n",
       "      <td>Haymarket Square</td>\n",
       "      <td>North Station</td>\n",
       "      <td>Lyft</td>\n",
       "      <td>...</td>\n",
       "      <td>0.0001</td>\n",
       "      <td>1543420800</td>\n",
       "      <td>33.10</td>\n",
       "      <td>1543402800</td>\n",
       "      <td>42.18</td>\n",
       "      <td>1543420800</td>\n",
       "      <td>29.11</td>\n",
       "      <td>1543392000</td>\n",
       "      <td>35.75</td>\n",
       "      <td>1543420800</td>\n",
       "    </tr>\n",
       "    <tr>\n",
       "      <th>...</th>\n",
       "      <td>...</td>\n",
       "      <td>...</td>\n",
       "      <td>...</td>\n",
       "      <td>...</td>\n",
       "      <td>...</td>\n",
       "      <td>...</td>\n",
       "      <td>...</td>\n",
       "      <td>...</td>\n",
       "      <td>...</td>\n",
       "      <td>...</td>\n",
       "      <td>...</td>\n",
       "      <td>...</td>\n",
       "      <td>...</td>\n",
       "      <td>...</td>\n",
       "      <td>...</td>\n",
       "      <td>...</td>\n",
       "      <td>...</td>\n",
       "      <td>...</td>\n",
       "      <td>...</td>\n",
       "      <td>...</td>\n",
       "      <td>...</td>\n",
       "    </tr>\n",
       "    <tr>\n",
       "      <th>693066</th>\n",
       "      <td>616d3611-1820-450a-9845-a9ff304a4842</td>\n",
       "      <td>1.543708e+09</td>\n",
       "      <td>23</td>\n",
       "      <td>1</td>\n",
       "      <td>12</td>\n",
       "      <td>2018-12-01 23:53:05</td>\n",
       "      <td>America/New_York</td>\n",
       "      <td>West End</td>\n",
       "      <td>North End</td>\n",
       "      <td>Uber</td>\n",
       "      <td>...</td>\n",
       "      <td>0.0000</td>\n",
       "      <td>1543683600</td>\n",
       "      <td>31.42</td>\n",
       "      <td>1543658400</td>\n",
       "      <td>44.76</td>\n",
       "      <td>1543690800</td>\n",
       "      <td>27.77</td>\n",
       "      <td>1543658400</td>\n",
       "      <td>44.09</td>\n",
       "      <td>1543690800</td>\n",
       "    </tr>\n",
       "    <tr>\n",
       "      <th>693067</th>\n",
       "      <td>633a3fc3-1f86-4b9e-9d48-2b7132112341</td>\n",
       "      <td>1.543708e+09</td>\n",
       "      <td>23</td>\n",
       "      <td>1</td>\n",
       "      <td>12</td>\n",
       "      <td>2018-12-01 23:53:05</td>\n",
       "      <td>America/New_York</td>\n",
       "      <td>West End</td>\n",
       "      <td>North End</td>\n",
       "      <td>Uber</td>\n",
       "      <td>...</td>\n",
       "      <td>0.0000</td>\n",
       "      <td>1543683600</td>\n",
       "      <td>31.42</td>\n",
       "      <td>1543658400</td>\n",
       "      <td>44.76</td>\n",
       "      <td>1543690800</td>\n",
       "      <td>27.77</td>\n",
       "      <td>1543658400</td>\n",
       "      <td>44.09</td>\n",
       "      <td>1543690800</td>\n",
       "    </tr>\n",
       "    <tr>\n",
       "      <th>693068</th>\n",
       "      <td>64d451d0-639f-47a4-9b7c-6fd92fbd264f</td>\n",
       "      <td>1.543708e+09</td>\n",
       "      <td>23</td>\n",
       "      <td>1</td>\n",
       "      <td>12</td>\n",
       "      <td>2018-12-01 23:53:05</td>\n",
       "      <td>America/New_York</td>\n",
       "      <td>West End</td>\n",
       "      <td>North End</td>\n",
       "      <td>Uber</td>\n",
       "      <td>...</td>\n",
       "      <td>0.0000</td>\n",
       "      <td>1543683600</td>\n",
       "      <td>31.42</td>\n",
       "      <td>1543658400</td>\n",
       "      <td>44.76</td>\n",
       "      <td>1543690800</td>\n",
       "      <td>27.77</td>\n",
       "      <td>1543658400</td>\n",
       "      <td>44.09</td>\n",
       "      <td>1543690800</td>\n",
       "    </tr>\n",
       "    <tr>\n",
       "      <th>693069</th>\n",
       "      <td>727e5f07-a96b-4ad1-a2c7-9abc3ad55b4e</td>\n",
       "      <td>1.543708e+09</td>\n",
       "      <td>23</td>\n",
       "      <td>1</td>\n",
       "      <td>12</td>\n",
       "      <td>2018-12-01 23:53:05</td>\n",
       "      <td>America/New_York</td>\n",
       "      <td>West End</td>\n",
       "      <td>North End</td>\n",
       "      <td>Uber</td>\n",
       "      <td>...</td>\n",
       "      <td>0.0000</td>\n",
       "      <td>1543683600</td>\n",
       "      <td>31.42</td>\n",
       "      <td>1543658400</td>\n",
       "      <td>44.76</td>\n",
       "      <td>1543690800</td>\n",
       "      <td>27.77</td>\n",
       "      <td>1543658400</td>\n",
       "      <td>44.09</td>\n",
       "      <td>1543690800</td>\n",
       "    </tr>\n",
       "    <tr>\n",
       "      <th>693070</th>\n",
       "      <td>e7fdc087-fe86-40a5-a3c3-3b2a8badcbda</td>\n",
       "      <td>1.543708e+09</td>\n",
       "      <td>23</td>\n",
       "      <td>1</td>\n",
       "      <td>12</td>\n",
       "      <td>2018-12-01 23:53:05</td>\n",
       "      <td>America/New_York</td>\n",
       "      <td>West End</td>\n",
       "      <td>North End</td>\n",
       "      <td>Uber</td>\n",
       "      <td>...</td>\n",
       "      <td>0.0000</td>\n",
       "      <td>1543683600</td>\n",
       "      <td>31.42</td>\n",
       "      <td>1543658400</td>\n",
       "      <td>44.76</td>\n",
       "      <td>1543690800</td>\n",
       "      <td>27.77</td>\n",
       "      <td>1543658400</td>\n",
       "      <td>44.09</td>\n",
       "      <td>1543690800</td>\n",
       "    </tr>\n",
       "  </tbody>\n",
       "</table>\n",
       "<p>693071 rows × 57 columns</p>\n",
       "</div>"
      ],
      "text/plain": [
       "                                          id     timestamp  hour  day  month  \\\n",
       "0       424553bb-7174-41ea-aeb4-fe06d4f4b9d7  1.544953e+09     9   16     12   \n",
       "1       4bd23055-6827-41c6-b23b-3c491f24e74d  1.543284e+09     2   27     11   \n",
       "2       981a3613-77af-4620-a42a-0c0866077d1e  1.543367e+09     1   28     11   \n",
       "3       c2d88af2-d278-4bfd-a8d0-29ca77cc5512  1.543554e+09     4   30     11   \n",
       "4       e0126e1f-8ca9-4f2e-82b3-50505a09db9a  1.543463e+09     3   29     11   \n",
       "...                                      ...           ...   ...  ...    ...   \n",
       "693066  616d3611-1820-450a-9845-a9ff304a4842  1.543708e+09    23    1     12   \n",
       "693067  633a3fc3-1f86-4b9e-9d48-2b7132112341  1.543708e+09    23    1     12   \n",
       "693068  64d451d0-639f-47a4-9b7c-6fd92fbd264f  1.543708e+09    23    1     12   \n",
       "693069  727e5f07-a96b-4ad1-a2c7-9abc3ad55b4e  1.543708e+09    23    1     12   \n",
       "693070  e7fdc087-fe86-40a5-a3c3-3b2a8badcbda  1.543708e+09    23    1     12   \n",
       "\n",
       "                   datetime          timezone            source  \\\n",
       "0       2018-12-16 09:30:07  America/New_York  Haymarket Square   \n",
       "1       2018-11-27 02:00:23  America/New_York  Haymarket Square   \n",
       "2       2018-11-28 01:00:22  America/New_York  Haymarket Square   \n",
       "3       2018-11-30 04:53:02  America/New_York  Haymarket Square   \n",
       "4       2018-11-29 03:49:20  America/New_York  Haymarket Square   \n",
       "...                     ...               ...               ...   \n",
       "693066  2018-12-01 23:53:05  America/New_York          West End   \n",
       "693067  2018-12-01 23:53:05  America/New_York          West End   \n",
       "693068  2018-12-01 23:53:05  America/New_York          West End   \n",
       "693069  2018-12-01 23:53:05  America/New_York          West End   \n",
       "693070  2018-12-01 23:53:05  America/New_York          West End   \n",
       "\n",
       "          destination cab_type  ... precipIntensityMax uvIndexTime  \\\n",
       "0       North Station     Lyft  ...             0.1276  1544979600   \n",
       "1       North Station     Lyft  ...             0.1300  1543251600   \n",
       "2       North Station     Lyft  ...             0.1064  1543338000   \n",
       "3       North Station     Lyft  ...             0.0000  1543507200   \n",
       "4       North Station     Lyft  ...             0.0001  1543420800   \n",
       "...               ...      ...  ...                ...         ...   \n",
       "693066      North End     Uber  ...             0.0000  1543683600   \n",
       "693067      North End     Uber  ...             0.0000  1543683600   \n",
       "693068      North End     Uber  ...             0.0000  1543683600   \n",
       "693069      North End     Uber  ...             0.0000  1543683600   \n",
       "693070      North End     Uber  ...             0.0000  1543683600   \n",
       "\n",
       "        temperatureMin  temperatureMinTime  temperatureMax  \\\n",
       "0                39.89          1545012000           43.68   \n",
       "1                40.49          1543233600           47.30   \n",
       "2                35.36          1543377600           47.55   \n",
       "3                34.67          1543550400           45.03   \n",
       "4                33.10          1543402800           42.18   \n",
       "...                ...                 ...             ...   \n",
       "693066           31.42          1543658400           44.76   \n",
       "693067           31.42          1543658400           44.76   \n",
       "693068           31.42          1543658400           44.76   \n",
       "693069           31.42          1543658400           44.76   \n",
       "693070           31.42          1543658400           44.76   \n",
       "\n",
       "        temperatureMaxTime  apparentTemperatureMin  \\\n",
       "0               1544968800                   33.73   \n",
       "1               1543251600                   36.20   \n",
       "2               1543320000                   31.04   \n",
       "3               1543510800                   30.30   \n",
       "4               1543420800                   29.11   \n",
       "...                    ...                     ...   \n",
       "693066          1543690800                   27.77   \n",
       "693067          1543690800                   27.77   \n",
       "693068          1543690800                   27.77   \n",
       "693069          1543690800                   27.77   \n",
       "693070          1543690800                   27.77   \n",
       "\n",
       "        apparentTemperatureMinTime  apparentTemperatureMax  \\\n",
       "0                       1545012000                   38.07   \n",
       "1                       1543291200                   43.92   \n",
       "2                       1543377600                   44.12   \n",
       "3                       1543550400                   38.53   \n",
       "4                       1543392000                   35.75   \n",
       "...                            ...                     ...   \n",
       "693066                  1543658400                   44.09   \n",
       "693067                  1543658400                   44.09   \n",
       "693068                  1543658400                   44.09   \n",
       "693069                  1543658400                   44.09   \n",
       "693070                  1543658400                   44.09   \n",
       "\n",
       "       apparentTemperatureMaxTime  \n",
       "0                      1544958000  \n",
       "1                      1543251600  \n",
       "2                      1543320000  \n",
       "3                      1543510800  \n",
       "4                      1543420800  \n",
       "...                           ...  \n",
       "693066                 1543690800  \n",
       "693067                 1543690800  \n",
       "693068                 1543690800  \n",
       "693069                 1543690800  \n",
       "693070                 1543690800  \n",
       "\n",
       "[693071 rows x 57 columns]"
      ]
     },
     "execution_count": 3,
     "metadata": {},
     "output_type": "execute_result"
    }
   ],
   "source": [
    "DF"
   ]
  },
  {
   "cell_type": "code",
   "execution_count": 129,
   "id": "64768e77",
   "metadata": {},
   "outputs": [
    {
     "data": {
      "text/plain": [
       "count    693071.000000\n",
       "mean         11.619137\n",
       "std           6.948114\n",
       "min           0.000000\n",
       "25%           6.000000\n",
       "50%          12.000000\n",
       "75%          18.000000\n",
       "max          23.000000\n",
       "Name: hour, dtype: float64"
      ]
     },
     "execution_count": 129,
     "metadata": {},
     "output_type": "execute_result"
    }
   ],
   "source": [
    "DF['hour'].describe()"
   ]
  },
  {
   "cell_type": "code",
   "execution_count": 130,
   "id": "c5f076b2",
   "metadata": {},
   "outputs": [
    {
     "data": {
      "text/plain": [
       "count    693071.000000\n",
       "mean       1010.094766\n",
       "std          13.472899\n",
       "min         988.090000\n",
       "25%         999.820000\n",
       "50%        1009.250000\n",
       "75%        1021.860000\n",
       "max        1035.550000\n",
       "Name: pressure, dtype: float64"
      ]
     },
     "execution_count": 130,
     "metadata": {},
     "output_type": "execute_result"
    }
   ],
   "source": [
    "DF['pressure'].describe()"
   ]
  },
  {
   "cell_type": "code",
   "execution_count": 5,
   "id": "ab98e39b",
   "metadata": {},
   "outputs": [
    {
     "data": {
      "text/plain": [
       "count                 693071\n",
       "unique                    12\n",
       "top       Financial District\n",
       "freq                   58851\n",
       "Name: destination, dtype: object"
      ]
     },
     "execution_count": 5,
     "metadata": {},
     "output_type": "execute_result"
    }
   ],
   "source": [
    "DF['destination'].describe()"
   ]
  },
  {
   "cell_type": "code",
   "execution_count": 7,
   "id": "d9279dd4",
   "metadata": {},
   "outputs": [
    {
     "data": {
      "text/plain": [
       "count     693071\n",
       "unique        13\n",
       "top       UberXL\n",
       "freq       55096\n",
       "Name: name, dtype: object"
      ]
     },
     "execution_count": 7,
     "metadata": {},
     "output_type": "execute_result"
    }
   ],
   "source": [
    "DF['name'].describe()"
   ]
  },
  {
   "cell_type": "code",
   "execution_count": 8,
   "id": "cd3fd8e8",
   "metadata": {
    "collapsed": true
   },
   "outputs": [
    {
     "data": {
      "text/html": [
       "<div>\n",
       "<style scoped>\n",
       "    .dataframe tbody tr th:only-of-type {\n",
       "        vertical-align: middle;\n",
       "    }\n",
       "\n",
       "    .dataframe tbody tr th {\n",
       "        vertical-align: top;\n",
       "    }\n",
       "\n",
       "    .dataframe thead th {\n",
       "        text-align: right;\n",
       "    }\n",
       "</style>\n",
       "<table border=\"1\" class=\"dataframe\">\n",
       "  <thead>\n",
       "    <tr style=\"text-align: right;\">\n",
       "      <th></th>\n",
       "      <th>timestamp</th>\n",
       "      <th>hour</th>\n",
       "      <th>day</th>\n",
       "      <th>month</th>\n",
       "      <th>price</th>\n",
       "      <th>distance</th>\n",
       "      <th>surge_multiplier</th>\n",
       "      <th>latitude</th>\n",
       "      <th>longitude</th>\n",
       "      <th>temperature</th>\n",
       "      <th>...</th>\n",
       "      <th>precipIntensityMax</th>\n",
       "      <th>uvIndexTime</th>\n",
       "      <th>temperatureMin</th>\n",
       "      <th>temperatureMinTime</th>\n",
       "      <th>temperatureMax</th>\n",
       "      <th>temperatureMaxTime</th>\n",
       "      <th>apparentTemperatureMin</th>\n",
       "      <th>apparentTemperatureMinTime</th>\n",
       "      <th>apparentTemperatureMax</th>\n",
       "      <th>apparentTemperatureMaxTime</th>\n",
       "    </tr>\n",
       "  </thead>\n",
       "  <tbody>\n",
       "    <tr>\n",
       "      <th>count</th>\n",
       "      <td>6.930710e+05</td>\n",
       "      <td>693071.000000</td>\n",
       "      <td>693071.000000</td>\n",
       "      <td>693071.000000</td>\n",
       "      <td>637976.000000</td>\n",
       "      <td>693071.000000</td>\n",
       "      <td>693071.000000</td>\n",
       "      <td>693071.000000</td>\n",
       "      <td>693071.000000</td>\n",
       "      <td>693071.000000</td>\n",
       "      <td>...</td>\n",
       "      <td>693071.000000</td>\n",
       "      <td>6.930710e+05</td>\n",
       "      <td>693071.000000</td>\n",
       "      <td>6.930710e+05</td>\n",
       "      <td>693071.000000</td>\n",
       "      <td>6.930710e+05</td>\n",
       "      <td>693071.000000</td>\n",
       "      <td>6.930710e+05</td>\n",
       "      <td>693071.000000</td>\n",
       "      <td>6.930710e+05</td>\n",
       "    </tr>\n",
       "    <tr>\n",
       "      <th>mean</th>\n",
       "      <td>1.544046e+09</td>\n",
       "      <td>11.619137</td>\n",
       "      <td>17.794365</td>\n",
       "      <td>11.586684</td>\n",
       "      <td>16.545125</td>\n",
       "      <td>2.189430</td>\n",
       "      <td>1.013870</td>\n",
       "      <td>42.338172</td>\n",
       "      <td>-71.066151</td>\n",
       "      <td>39.584388</td>\n",
       "      <td>...</td>\n",
       "      <td>0.037374</td>\n",
       "      <td>1.544044e+09</td>\n",
       "      <td>33.457774</td>\n",
       "      <td>1.544042e+09</td>\n",
       "      <td>45.261313</td>\n",
       "      <td>1.544047e+09</td>\n",
       "      <td>29.731002</td>\n",
       "      <td>1.544048e+09</td>\n",
       "      <td>41.997343</td>\n",
       "      <td>1.544048e+09</td>\n",
       "    </tr>\n",
       "    <tr>\n",
       "      <th>std</th>\n",
       "      <td>6.891925e+05</td>\n",
       "      <td>6.948114</td>\n",
       "      <td>9.982286</td>\n",
       "      <td>0.492429</td>\n",
       "      <td>9.324359</td>\n",
       "      <td>1.138937</td>\n",
       "      <td>0.091641</td>\n",
       "      <td>0.047840</td>\n",
       "      <td>0.020302</td>\n",
       "      <td>6.726084</td>\n",
       "      <td>...</td>\n",
       "      <td>0.055214</td>\n",
       "      <td>6.912028e+05</td>\n",
       "      <td>6.467224</td>\n",
       "      <td>6.901954e+05</td>\n",
       "      <td>5.645046</td>\n",
       "      <td>6.901353e+05</td>\n",
       "      <td>7.110494</td>\n",
       "      <td>6.871862e+05</td>\n",
       "      <td>6.936841</td>\n",
       "      <td>6.910777e+05</td>\n",
       "    </tr>\n",
       "    <tr>\n",
       "      <th>min</th>\n",
       "      <td>1.543204e+09</td>\n",
       "      <td>0.000000</td>\n",
       "      <td>1.000000</td>\n",
       "      <td>11.000000</td>\n",
       "      <td>2.500000</td>\n",
       "      <td>0.020000</td>\n",
       "      <td>1.000000</td>\n",
       "      <td>42.214800</td>\n",
       "      <td>-71.105400</td>\n",
       "      <td>18.910000</td>\n",
       "      <td>...</td>\n",
       "      <td>0.000000</td>\n",
       "      <td>1.543162e+09</td>\n",
       "      <td>15.630000</td>\n",
       "      <td>1.543122e+09</td>\n",
       "      <td>33.510000</td>\n",
       "      <td>1.543154e+09</td>\n",
       "      <td>11.810000</td>\n",
       "      <td>1.543136e+09</td>\n",
       "      <td>28.950000</td>\n",
       "      <td>1.543187e+09</td>\n",
       "    </tr>\n",
       "    <tr>\n",
       "      <th>25%</th>\n",
       "      <td>1.543444e+09</td>\n",
       "      <td>6.000000</td>\n",
       "      <td>13.000000</td>\n",
       "      <td>11.000000</td>\n",
       "      <td>9.000000</td>\n",
       "      <td>1.280000</td>\n",
       "      <td>1.000000</td>\n",
       "      <td>42.350300</td>\n",
       "      <td>-71.081000</td>\n",
       "      <td>36.450000</td>\n",
       "      <td>...</td>\n",
       "      <td>0.000000</td>\n",
       "      <td>1.543421e+09</td>\n",
       "      <td>30.170000</td>\n",
       "      <td>1.543399e+09</td>\n",
       "      <td>42.570000</td>\n",
       "      <td>1.543439e+09</td>\n",
       "      <td>27.760000</td>\n",
       "      <td>1.543399e+09</td>\n",
       "      <td>36.570000</td>\n",
       "      <td>1.543439e+09</td>\n",
       "    </tr>\n",
       "    <tr>\n",
       "      <th>50%</th>\n",
       "      <td>1.543737e+09</td>\n",
       "      <td>12.000000</td>\n",
       "      <td>17.000000</td>\n",
       "      <td>12.000000</td>\n",
       "      <td>13.500000</td>\n",
       "      <td>2.160000</td>\n",
       "      <td>1.000000</td>\n",
       "      <td>42.351900</td>\n",
       "      <td>-71.063100</td>\n",
       "      <td>40.490000</td>\n",
       "      <td>...</td>\n",
       "      <td>0.000400</td>\n",
       "      <td>1.543770e+09</td>\n",
       "      <td>34.240000</td>\n",
       "      <td>1.543727e+09</td>\n",
       "      <td>44.680000</td>\n",
       "      <td>1.543788e+09</td>\n",
       "      <td>30.130000</td>\n",
       "      <td>1.543745e+09</td>\n",
       "      <td>40.950000</td>\n",
       "      <td>1.543788e+09</td>\n",
       "    </tr>\n",
       "    <tr>\n",
       "      <th>75%</th>\n",
       "      <td>1.544828e+09</td>\n",
       "      <td>18.000000</td>\n",
       "      <td>28.000000</td>\n",
       "      <td>12.000000</td>\n",
       "      <td>22.500000</td>\n",
       "      <td>2.920000</td>\n",
       "      <td>1.000000</td>\n",
       "      <td>42.364700</td>\n",
       "      <td>-71.054200</td>\n",
       "      <td>43.580000</td>\n",
       "      <td>...</td>\n",
       "      <td>0.091600</td>\n",
       "      <td>1.544807e+09</td>\n",
       "      <td>38.880000</td>\n",
       "      <td>1.544789e+09</td>\n",
       "      <td>46.910000</td>\n",
       "      <td>1.544814e+09</td>\n",
       "      <td>35.710000</td>\n",
       "      <td>1.544789e+09</td>\n",
       "      <td>44.120000</td>\n",
       "      <td>1.544818e+09</td>\n",
       "    </tr>\n",
       "    <tr>\n",
       "      <th>max</th>\n",
       "      <td>1.545161e+09</td>\n",
       "      <td>23.000000</td>\n",
       "      <td>30.000000</td>\n",
       "      <td>12.000000</td>\n",
       "      <td>97.500000</td>\n",
       "      <td>7.860000</td>\n",
       "      <td>3.000000</td>\n",
       "      <td>42.366100</td>\n",
       "      <td>-71.033000</td>\n",
       "      <td>57.220000</td>\n",
       "      <td>...</td>\n",
       "      <td>0.145900</td>\n",
       "      <td>1.545152e+09</td>\n",
       "      <td>43.100000</td>\n",
       "      <td>1.545192e+09</td>\n",
       "      <td>57.870000</td>\n",
       "      <td>1.545109e+09</td>\n",
       "      <td>40.050000</td>\n",
       "      <td>1.545134e+09</td>\n",
       "      <td>57.200000</td>\n",
       "      <td>1.545109e+09</td>\n",
       "    </tr>\n",
       "  </tbody>\n",
       "</table>\n",
       "<p>8 rows × 46 columns</p>\n",
       "</div>"
      ],
      "text/plain": [
       "          timestamp           hour            day          month  \\\n",
       "count  6.930710e+05  693071.000000  693071.000000  693071.000000   \n",
       "mean   1.544046e+09      11.619137      17.794365      11.586684   \n",
       "std    6.891925e+05       6.948114       9.982286       0.492429   \n",
       "min    1.543204e+09       0.000000       1.000000      11.000000   \n",
       "25%    1.543444e+09       6.000000      13.000000      11.000000   \n",
       "50%    1.543737e+09      12.000000      17.000000      12.000000   \n",
       "75%    1.544828e+09      18.000000      28.000000      12.000000   \n",
       "max    1.545161e+09      23.000000      30.000000      12.000000   \n",
       "\n",
       "               price       distance  surge_multiplier       latitude  \\\n",
       "count  637976.000000  693071.000000     693071.000000  693071.000000   \n",
       "mean       16.545125       2.189430          1.013870      42.338172   \n",
       "std         9.324359       1.138937          0.091641       0.047840   \n",
       "min         2.500000       0.020000          1.000000      42.214800   \n",
       "25%         9.000000       1.280000          1.000000      42.350300   \n",
       "50%        13.500000       2.160000          1.000000      42.351900   \n",
       "75%        22.500000       2.920000          1.000000      42.364700   \n",
       "max        97.500000       7.860000          3.000000      42.366100   \n",
       "\n",
       "           longitude    temperature  ...  precipIntensityMax   uvIndexTime  \\\n",
       "count  693071.000000  693071.000000  ...       693071.000000  6.930710e+05   \n",
       "mean      -71.066151      39.584388  ...            0.037374  1.544044e+09   \n",
       "std         0.020302       6.726084  ...            0.055214  6.912028e+05   \n",
       "min       -71.105400      18.910000  ...            0.000000  1.543162e+09   \n",
       "25%       -71.081000      36.450000  ...            0.000000  1.543421e+09   \n",
       "50%       -71.063100      40.490000  ...            0.000400  1.543770e+09   \n",
       "75%       -71.054200      43.580000  ...            0.091600  1.544807e+09   \n",
       "max       -71.033000      57.220000  ...            0.145900  1.545152e+09   \n",
       "\n",
       "       temperatureMin  temperatureMinTime  temperatureMax  temperatureMaxTime  \\\n",
       "count   693071.000000        6.930710e+05   693071.000000        6.930710e+05   \n",
       "mean        33.457774        1.544042e+09       45.261313        1.544047e+09   \n",
       "std          6.467224        6.901954e+05        5.645046        6.901353e+05   \n",
       "min         15.630000        1.543122e+09       33.510000        1.543154e+09   \n",
       "25%         30.170000        1.543399e+09       42.570000        1.543439e+09   \n",
       "50%         34.240000        1.543727e+09       44.680000        1.543788e+09   \n",
       "75%         38.880000        1.544789e+09       46.910000        1.544814e+09   \n",
       "max         43.100000        1.545192e+09       57.870000        1.545109e+09   \n",
       "\n",
       "       apparentTemperatureMin  apparentTemperatureMinTime  \\\n",
       "count           693071.000000                6.930710e+05   \n",
       "mean                29.731002                1.544048e+09   \n",
       "std                  7.110494                6.871862e+05   \n",
       "min                 11.810000                1.543136e+09   \n",
       "25%                 27.760000                1.543399e+09   \n",
       "50%                 30.130000                1.543745e+09   \n",
       "75%                 35.710000                1.544789e+09   \n",
       "max                 40.050000                1.545134e+09   \n",
       "\n",
       "       apparentTemperatureMax  apparentTemperatureMaxTime  \n",
       "count           693071.000000                6.930710e+05  \n",
       "mean                41.997343                1.544048e+09  \n",
       "std                  6.936841                6.910777e+05  \n",
       "min                 28.950000                1.543187e+09  \n",
       "25%                 36.570000                1.543439e+09  \n",
       "50%                 40.950000                1.543788e+09  \n",
       "75%                 44.120000                1.544818e+09  \n",
       "max                 57.200000                1.545109e+09  \n",
       "\n",
       "[8 rows x 46 columns]"
      ]
     },
     "execution_count": 8,
     "metadata": {},
     "output_type": "execute_result"
    }
   ],
   "source": [
    "DF.describe()"
   ]
  },
  {
   "cell_type": "code",
   "execution_count": 60,
   "id": "9b428721",
   "metadata": {
    "collapsed": true
   },
   "outputs": [
    {
     "name": "stdout",
     "output_type": "stream",
     "text": [
      "<class 'pandas.core.frame.DataFrame'>\n",
      "RangeIndex: 693071 entries, 0 to 693070\n",
      "Data columns (total 46 columns):\n",
      " #   Column                       Non-Null Count   Dtype  \n",
      "---  ------                       --------------   -----  \n",
      " 0   id                           693071 non-null  object \n",
      " 1   hour                         693071 non-null  int64  \n",
      " 2   day                          693071 non-null  int64  \n",
      " 3   month                        693071 non-null  int64  \n",
      " 4   source                       693071 non-null  object \n",
      " 5   destination                  693071 non-null  object \n",
      " 6   cab_type                     693071 non-null  object \n",
      " 7   product_id                   693071 non-null  object \n",
      " 8   price                        637976 non-null  float64\n",
      " 9   distance                     693071 non-null  float64\n",
      " 10  surge_multiplier             693071 non-null  float64\n",
      " 11  temperature                  693071 non-null  float64\n",
      " 12  apparentTemperature          693071 non-null  float64\n",
      " 13  precipIntensity              693071 non-null  float64\n",
      " 14  precipProbability            693071 non-null  float64\n",
      " 15  humidity                     693071 non-null  float64\n",
      " 16  windSpeed                    693071 non-null  float64\n",
      " 17  windGust                     693071 non-null  float64\n",
      " 18  windGustTime                 693071 non-null  int64  \n",
      " 19  visibility                   693071 non-null  float64\n",
      " 20  temperatureHigh              693071 non-null  float64\n",
      " 21  temperatureHighTime          693071 non-null  int64  \n",
      " 22  temperatureLow               693071 non-null  float64\n",
      " 23  temperatureLowTime           693071 non-null  int64  \n",
      " 24  apparentTemperatureHigh      693071 non-null  float64\n",
      " 25  apparentTemperatureHighTime  693071 non-null  int64  \n",
      " 26  apparentTemperatureLow       693071 non-null  float64\n",
      " 27  apparentTemperatureLowTime   693071 non-null  int64  \n",
      " 28  dewPoint                     693071 non-null  float64\n",
      " 29  pressure                     693071 non-null  float64\n",
      " 30  windBearing                  693071 non-null  int64  \n",
      " 31  cloudCover                   693071 non-null  float64\n",
      " 32  uvIndex                      693071 non-null  int64  \n",
      " 33  visibility.1                 693071 non-null  float64\n",
      " 34  ozone                        693071 non-null  float64\n",
      " 35  sunriseTime                  693071 non-null  int64  \n",
      " 36  sunsetTime                   693071 non-null  int64  \n",
      " 37  precipIntensityMax           693071 non-null  float64\n",
      " 38  temperatureMin               693071 non-null  float64\n",
      " 39  temperatureMinTime           693071 non-null  int64  \n",
      " 40  temperatureMax               693071 non-null  float64\n",
      " 41  temperatureMaxTime           693071 non-null  int64  \n",
      " 42  apparentTemperatureMin       693071 non-null  float64\n",
      " 43  apparentTemperatureMinTime   693071 non-null  int64  \n",
      " 44  apparentTemperatureMax       693071 non-null  float64\n",
      " 45  apparentTemperatureMaxTime   693071 non-null  int64  \n",
      "dtypes: float64(25), int64(16), object(5)\n",
      "memory usage: 243.2+ MB\n"
     ]
    }
   ],
   "source": [
    "DF.info()"
   ]
  },
  {
   "cell_type": "code",
   "execution_count": 15,
   "id": "a8896700",
   "metadata": {},
   "outputs": [],
   "source": [
    "DF.drop([['id']'timezone','timestamp','datetime','name','latitude','longitude','short_summary','long_summary','icon','moonPhase','uvIndexTime'] , axis=1, inplace=True)"
   ]
  },
  {
   "cell_type": "code",
   "execution_count": 132,
   "id": "b86789d4",
   "metadata": {},
   "outputs": [],
   "source": [
    "def Null_info(df):\n",
    "    \n",
    "    null_percentage = pd.Series([], dtype='float64')\n",
    "    \n",
    "    for i in df.columns:\n",
    "        null_percentage[i] = df.isnull().sum()[i] / len(df.index) *100\n",
    "    \n",
    "    Null_DF = pd.DataFrame(null_percentage)\n",
    "    \n",
    "    return Null_DF"
   ]
  },
  {
   "cell_type": "code",
   "execution_count": 133,
   "id": "d8724986",
   "metadata": {
    "collapsed": true
   },
   "outputs": [
    {
     "data": {
      "text/html": [
       "<div>\n",
       "<style scoped>\n",
       "    .dataframe tbody tr th:only-of-type {\n",
       "        vertical-align: middle;\n",
       "    }\n",
       "\n",
       "    .dataframe tbody tr th {\n",
       "        vertical-align: top;\n",
       "    }\n",
       "\n",
       "    .dataframe thead th {\n",
       "        text-align: right;\n",
       "    }\n",
       "</style>\n",
       "<table border=\"1\" class=\"dataframe\">\n",
       "  <thead>\n",
       "    <tr style=\"text-align: right;\">\n",
       "      <th></th>\n",
       "      <th>0</th>\n",
       "    </tr>\n",
       "  </thead>\n",
       "  <tbody>\n",
       "    <tr>\n",
       "      <th>id</th>\n",
       "      <td>0.000000</td>\n",
       "    </tr>\n",
       "    <tr>\n",
       "      <th>hour</th>\n",
       "      <td>0.000000</td>\n",
       "    </tr>\n",
       "    <tr>\n",
       "      <th>day</th>\n",
       "      <td>0.000000</td>\n",
       "    </tr>\n",
       "    <tr>\n",
       "      <th>month</th>\n",
       "      <td>0.000000</td>\n",
       "    </tr>\n",
       "    <tr>\n",
       "      <th>source</th>\n",
       "      <td>0.000000</td>\n",
       "    </tr>\n",
       "    <tr>\n",
       "      <th>destination</th>\n",
       "      <td>0.000000</td>\n",
       "    </tr>\n",
       "    <tr>\n",
       "      <th>cab_type</th>\n",
       "      <td>0.000000</td>\n",
       "    </tr>\n",
       "    <tr>\n",
       "      <th>product_id</th>\n",
       "      <td>0.000000</td>\n",
       "    </tr>\n",
       "    <tr>\n",
       "      <th>price</th>\n",
       "      <td>7.949402</td>\n",
       "    </tr>\n",
       "    <tr>\n",
       "      <th>distance</th>\n",
       "      <td>0.000000</td>\n",
       "    </tr>\n",
       "    <tr>\n",
       "      <th>surge_multiplier</th>\n",
       "      <td>0.000000</td>\n",
       "    </tr>\n",
       "    <tr>\n",
       "      <th>temperature</th>\n",
       "      <td>0.000000</td>\n",
       "    </tr>\n",
       "    <tr>\n",
       "      <th>apparentTemperature</th>\n",
       "      <td>0.000000</td>\n",
       "    </tr>\n",
       "    <tr>\n",
       "      <th>precipIntensity</th>\n",
       "      <td>0.000000</td>\n",
       "    </tr>\n",
       "    <tr>\n",
       "      <th>precipProbability</th>\n",
       "      <td>0.000000</td>\n",
       "    </tr>\n",
       "    <tr>\n",
       "      <th>humidity</th>\n",
       "      <td>0.000000</td>\n",
       "    </tr>\n",
       "    <tr>\n",
       "      <th>windSpeed</th>\n",
       "      <td>0.000000</td>\n",
       "    </tr>\n",
       "    <tr>\n",
       "      <th>windGust</th>\n",
       "      <td>0.000000</td>\n",
       "    </tr>\n",
       "    <tr>\n",
       "      <th>windGustTime</th>\n",
       "      <td>0.000000</td>\n",
       "    </tr>\n",
       "    <tr>\n",
       "      <th>visibility</th>\n",
       "      <td>0.000000</td>\n",
       "    </tr>\n",
       "    <tr>\n",
       "      <th>temperatureHigh</th>\n",
       "      <td>0.000000</td>\n",
       "    </tr>\n",
       "    <tr>\n",
       "      <th>temperatureHighTime</th>\n",
       "      <td>0.000000</td>\n",
       "    </tr>\n",
       "    <tr>\n",
       "      <th>temperatureLow</th>\n",
       "      <td>0.000000</td>\n",
       "    </tr>\n",
       "    <tr>\n",
       "      <th>temperatureLowTime</th>\n",
       "      <td>0.000000</td>\n",
       "    </tr>\n",
       "    <tr>\n",
       "      <th>apparentTemperatureHigh</th>\n",
       "      <td>0.000000</td>\n",
       "    </tr>\n",
       "    <tr>\n",
       "      <th>apparentTemperatureHighTime</th>\n",
       "      <td>0.000000</td>\n",
       "    </tr>\n",
       "    <tr>\n",
       "      <th>apparentTemperatureLow</th>\n",
       "      <td>0.000000</td>\n",
       "    </tr>\n",
       "    <tr>\n",
       "      <th>apparentTemperatureLowTime</th>\n",
       "      <td>0.000000</td>\n",
       "    </tr>\n",
       "    <tr>\n",
       "      <th>dewPoint</th>\n",
       "      <td>0.000000</td>\n",
       "    </tr>\n",
       "    <tr>\n",
       "      <th>pressure</th>\n",
       "      <td>0.000000</td>\n",
       "    </tr>\n",
       "    <tr>\n",
       "      <th>windBearing</th>\n",
       "      <td>0.000000</td>\n",
       "    </tr>\n",
       "    <tr>\n",
       "      <th>cloudCover</th>\n",
       "      <td>0.000000</td>\n",
       "    </tr>\n",
       "    <tr>\n",
       "      <th>uvIndex</th>\n",
       "      <td>0.000000</td>\n",
       "    </tr>\n",
       "    <tr>\n",
       "      <th>visibility.1</th>\n",
       "      <td>0.000000</td>\n",
       "    </tr>\n",
       "    <tr>\n",
       "      <th>ozone</th>\n",
       "      <td>0.000000</td>\n",
       "    </tr>\n",
       "    <tr>\n",
       "      <th>sunriseTime</th>\n",
       "      <td>0.000000</td>\n",
       "    </tr>\n",
       "    <tr>\n",
       "      <th>sunsetTime</th>\n",
       "      <td>0.000000</td>\n",
       "    </tr>\n",
       "    <tr>\n",
       "      <th>precipIntensityMax</th>\n",
       "      <td>0.000000</td>\n",
       "    </tr>\n",
       "    <tr>\n",
       "      <th>temperatureMin</th>\n",
       "      <td>0.000000</td>\n",
       "    </tr>\n",
       "    <tr>\n",
       "      <th>temperatureMinTime</th>\n",
       "      <td>0.000000</td>\n",
       "    </tr>\n",
       "    <tr>\n",
       "      <th>temperatureMax</th>\n",
       "      <td>0.000000</td>\n",
       "    </tr>\n",
       "    <tr>\n",
       "      <th>temperatureMaxTime</th>\n",
       "      <td>0.000000</td>\n",
       "    </tr>\n",
       "    <tr>\n",
       "      <th>apparentTemperatureMin</th>\n",
       "      <td>0.000000</td>\n",
       "    </tr>\n",
       "    <tr>\n",
       "      <th>apparentTemperatureMinTime</th>\n",
       "      <td>0.000000</td>\n",
       "    </tr>\n",
       "    <tr>\n",
       "      <th>apparentTemperatureMax</th>\n",
       "      <td>0.000000</td>\n",
       "    </tr>\n",
       "    <tr>\n",
       "      <th>apparentTemperatureMaxTime</th>\n",
       "      <td>0.000000</td>\n",
       "    </tr>\n",
       "  </tbody>\n",
       "</table>\n",
       "</div>"
      ],
      "text/plain": [
       "                                    0\n",
       "id                           0.000000\n",
       "hour                         0.000000\n",
       "day                          0.000000\n",
       "month                        0.000000\n",
       "source                       0.000000\n",
       "destination                  0.000000\n",
       "cab_type                     0.000000\n",
       "product_id                   0.000000\n",
       "price                        7.949402\n",
       "distance                     0.000000\n",
       "surge_multiplier             0.000000\n",
       "temperature                  0.000000\n",
       "apparentTemperature          0.000000\n",
       "precipIntensity              0.000000\n",
       "precipProbability            0.000000\n",
       "humidity                     0.000000\n",
       "windSpeed                    0.000000\n",
       "windGust                     0.000000\n",
       "windGustTime                 0.000000\n",
       "visibility                   0.000000\n",
       "temperatureHigh              0.000000\n",
       "temperatureHighTime          0.000000\n",
       "temperatureLow               0.000000\n",
       "temperatureLowTime           0.000000\n",
       "apparentTemperatureHigh      0.000000\n",
       "apparentTemperatureHighTime  0.000000\n",
       "apparentTemperatureLow       0.000000\n",
       "apparentTemperatureLowTime   0.000000\n",
       "dewPoint                     0.000000\n",
       "pressure                     0.000000\n",
       "windBearing                  0.000000\n",
       "cloudCover                   0.000000\n",
       "uvIndex                      0.000000\n",
       "visibility.1                 0.000000\n",
       "ozone                        0.000000\n",
       "sunriseTime                  0.000000\n",
       "sunsetTime                   0.000000\n",
       "precipIntensityMax           0.000000\n",
       "temperatureMin               0.000000\n",
       "temperatureMinTime           0.000000\n",
       "temperatureMax               0.000000\n",
       "temperatureMaxTime           0.000000\n",
       "apparentTemperatureMin       0.000000\n",
       "apparentTemperatureMinTime   0.000000\n",
       "apparentTemperatureMax       0.000000\n",
       "apparentTemperatureMaxTime   0.000000"
      ]
     },
     "execution_count": 133,
     "metadata": {},
     "output_type": "execute_result"
    }
   ],
   "source": [
    "Null_info(DF)"
   ]
  },
  {
   "cell_type": "code",
   "execution_count": 32,
   "id": "74d6ff32",
   "metadata": {},
   "outputs": [],
   "source": [
    "null_indexs = DF[  DF['price'].isnull()  ].index     # finding the index number of nulls in price column"
   ]
  },
  {
   "cell_type": "code",
   "execution_count": 33,
   "id": "899f3e5e",
   "metadata": {},
   "outputs": [],
   "source": [
    "DF.drop(null_indexs, inplace = True)                 # removing rows which have \"Null\" in \"price\" column    "
   ]
  },
  {
   "cell_type": "code",
   "execution_count": 17,
   "id": "b48170aa",
   "metadata": {},
   "outputs": [],
   "source": [
    "def Find_Cat_cols(df):                                     # returns a list of categorical features in \"df\" dataframe\n",
    "    cols = df.columns\n",
    "    num_cols = df._get_numeric_data().columns \n",
    "    cat_cols = list( set(cols) - set(num_cols)  )\n",
    "    \n",
    "    return cat_cols"
   ]
  },
  {
   "cell_type": "code",
   "execution_count": 156,
   "id": "e89d29d4",
   "metadata": {},
   "outputs": [
    {
     "data": {
      "text/plain": [
       "['cab_type', 'product_id', 'source', 'id', 'destination']"
      ]
     },
     "execution_count": 156,
     "metadata": {},
     "output_type": "execute_result"
    }
   ],
   "source": [
    "Find_Cat_cols(DF)"
   ]
  },
  {
   "cell_type": "code",
   "execution_count": 139,
   "id": "b8f73d2e",
   "metadata": {},
   "outputs": [],
   "source": [
    "def categories(df,feature):      # returns all unique categories which exist in \"feature\" feature of \"df\" dataframe\n",
    "    \n",
    "    return df[feature].value_counts()"
   ]
  },
  {
   "cell_type": "code",
   "execution_count": 140,
   "id": "9400c84a",
   "metadata": {},
   "outputs": [
    {
     "data": {
      "text/plain": [
       "Financial District         54192\n",
       "Back Bay                   53190\n",
       "Theatre District           53189\n",
       "Haymarket Square           53171\n",
       "Boston University          53171\n",
       "Fenway                     53166\n",
       "Northeastern University    53165\n",
       "North End                  53164\n",
       "South Station              53159\n",
       "West End                   52992\n",
       "Beacon Hill                52840\n",
       "North Station              52577\n",
       "Name: destination, dtype: int64"
      ]
     },
     "execution_count": 140,
     "metadata": {},
     "output_type": "execute_result"
    }
   ],
   "source": [
    "categories(DF,'destination')"
   ]
  },
  {
   "cell_type": "code",
   "execution_count": 154,
   "id": "471f4bec",
   "metadata": {},
   "outputs": [
    {
     "data": {
      "text/plain": [
       "Text(0.5, 1.0, 'hour')"
      ]
     },
     "execution_count": 154,
     "metadata": {},
     "output_type": "execute_result"
    },
    {
     "data": {
      "image/png": "[encoded data removed]",
      "text/plain": [
       "<Figure size 432x288 with 1 Axes>"
      ]
     },
     "metadata": {
      "needs_background": "light"
     },
     "output_type": "display_data"
    }
   ],
   "source": [
    "plt.hist(DF['hour'],edgecolor='red' , bins=np.arange(0,24,1))\n",
    "plt.title('hour')"
   ]
  },
  {
   "cell_type": "code",
   "execution_count": 159,
   "id": "b3b60cf4",
   "metadata": {
    "scrolled": true
   },
   "outputs": [
    {
     "data": {
      "text/plain": [
       "Text(0.5, 1.0, 'day')"
      ]
     },
     "execution_count": 159,
     "metadata": {},
     "output_type": "execute_result"
    },
    {
     "data": {
      "image/png": "[encoded data removed]",
      "text/plain": [
       "<Figure size 432x288 with 1 Axes>"
      ]
     },
     "metadata": {
      "needs_background": "light"
     },
     "output_type": "display_data"
    }
   ],
   "source": [
    "plt.hist(DF['day'],edgecolor='red' , bins=np.arange(1,31,1))\n",
    "plt.title('day')"
   ]
  },
  {
   "cell_type": "code",
   "execution_count": 193,
   "id": "92dd4157",
   "metadata": {},
   "outputs": [
    {
     "data": {
      "text/plain": [
       "Text(0.5, 1.0, 'month')"
      ]
     },
     "execution_count": 193,
     "metadata": {},
     "output_type": "execute_result"
    },
    {
     "data": {
      "image/png": "[encoded data removed]",
      "text/plain": [
       "<Figure size 432x288 with 1 Axes>"
      ]
     },
     "metadata": {
      "needs_background": "light"
     },
     "output_type": "display_data"
    }
   ],
   "source": [
    "plt.hist(DF['month'],edgecolor='black' , bins=[11,12] )\n",
    "plt.title('month')"
   ]
  },
  {
   "cell_type": "code",
   "execution_count": 164,
   "id": "59da7914",
   "metadata": {},
   "outputs": [
    {
     "data": {
      "text/plain": [
       "Text(0.5, 1.0, 'distance')"
      ]
     },
     "execution_count": 164,
     "metadata": {},
     "output_type": "execute_result"
    },
    {
     "data": {
      "image/png": "[encoded data removed]",
      "text/plain": [
       "<Figure size 432x288 with 1 Axes>"
      ]
     },
     "metadata": {
      "needs_background": "light"
     },
     "output_type": "display_data"
    }
   ],
   "source": [
    "plt.hist(DF['distance'],edgecolor='red' , bins=np.arange(0,8,.2) )\n",
    "plt.title('distance')"
   ]
  },
  {
   "cell_type": "code",
   "execution_count": 176,
   "id": "c9afbce3",
   "metadata": {},
   "outputs": [
    {
     "data": {
      "text/plain": [
       "Text(0.5, 1.0, 'windSpeed')"
      ]
     },
     "execution_count": 176,
     "metadata": {},
     "output_type": "execute_result"
    },
    {
     "data": {
      "image/png": "[encoded data removed]",
      "text/plain": [
       "<Figure size 432x288 with 1 Axes>"
      ]
     },
     "metadata": {
      "needs_background": "light"
     },
     "output_type": "display_data"
    }
   ],
   "source": [
    "plt.hist(DF['windSpeed'],edgecolor='black' , bins=np.arange(.4,15,.1) )\n",
    "plt.title('windSpeed')"
   ]
  },
  {
   "cell_type": "code",
   "execution_count": 172,
   "id": "92f818f9",
   "metadata": {},
   "outputs": [
    {
     "data": {
      "text/plain": [
       "Text(0.5, 1.0, 'precipIntensity')"
      ]
     },
     "execution_count": 172,
     "metadata": {},
     "output_type": "execute_result"
    },
    {
     "data": {
      "image/png": "[encoded data removed]",
      "text/plain": [
       "<Figure size 432x288 with 1 Axes>"
      ]
     },
     "metadata": {
      "needs_background": "light"
     },
     "output_type": "display_data"
    }
   ],
   "source": [
    "plt.hist(DF['precipIntensity'],edgecolor='black' , bins=np.arange(0,.14,.01) )\n",
    "plt.title('precipIntensity')"
   ]
  },
  {
   "cell_type": "code",
   "execution_count": 175,
   "id": "2b128136",
   "metadata": {},
   "outputs": [
    {
     "data": {
      "text/plain": [
       "Text(0.5, 1.0, 'windGust')"
      ]
     },
     "execution_count": 175,
     "metadata": {},
     "output_type": "execute_result"
    },
    {
     "data": {
      "image/png": "[encoded data removed]",
      "text/plain": [
       "<Figure size 432x288 with 1 Axes>"
      ]
     },
     "metadata": {
      "needs_background": "light"
     },
     "output_type": "display_data"
    }
   ],
   "source": [
    "plt.hist(DF['windGust'],edgecolor='black' , bins=np.arange(.8,28,.05) )\n",
    "plt.title('windGust')"
   ]
  },
  {
   "cell_type": "code",
   "execution_count": 187,
   "id": "56879067",
   "metadata": {},
   "outputs": [
    {
     "data": {
      "text/plain": [
       "Text(0.5, 1.0, 'visibility')"
      ]
     },
     "execution_count": 187,
     "metadata": {},
     "output_type": "execute_result"
    },
    {
     "data": {
      "image/png": "[encoded data removed]",
      "text/plain": [
       "<Figure size 432x288 with 1 Axes>"
      ]
     },
     "metadata": {
      "needs_background": "light"
     },
     "output_type": "display_data"
    }
   ],
   "source": [
    "plt.hist(DF['visibility'],edgecolor='black' , bins=np.arange(.7,10,.5) )\n",
    "plt.title('visibility')"
   ]
  },
  {
   "cell_type": "code",
   "execution_count": 183,
   "id": "87c90cac",
   "metadata": {},
   "outputs": [
    {
     "data": {
      "text/plain": [
       "Text(0.5, 1.0, 'windBearing')"
      ]
     },
     "execution_count": 183,
     "metadata": {},
     "output_type": "execute_result"
    },
    {
     "data": {
      "image/png": "[encoded data removed]",
      "text/plain": [
       "<Figure size 432x288 with 1 Axes>"
      ]
     },
     "metadata": {
      "needs_background": "light"
     },
     "output_type": "display_data"
    }
   ],
   "source": [
    "plt.hist(DF['windBearing'],edgecolor='black' , bins=np.arange(2,356,10) )\n",
    "plt.title('windBearing')"
   ]
  },
  {
   "cell_type": "code",
   "execution_count": 192,
   "id": "2955975d",
   "metadata": {},
   "outputs": [
    {
     "data": {
      "text/plain": [
       "Text(0.5, 1.0, 'cloudCover')"
      ]
     },
     "execution_count": 192,
     "metadata": {},
     "output_type": "execute_result"
    },
    {
     "data": {
      "image/png": "[encoded data removed]",
      "text/plain": [
       "<Figure size 432x288 with 1 Axes>"
      ]
     },
     "metadata": {
      "needs_background": "light"
     },
     "output_type": "display_data"
    }
   ],
   "source": [
    "plt.hist(DF['cloudCover'],edgecolor='black' , bins=np.arange(0,1,.05) )\n",
    "plt.title('cloudCover')"
   ]
  },
  {
   "cell_type": "code",
   "execution_count": null,
   "id": "2235f535",
   "metadata": {},
   "outputs": [],
   "source": [
    "import seaborn as sns "
   ]
  },
  {
   "cell_type": "code",
   "execution_count": 12,
   "id": "8e3e666e",
   "metadata": {},
   "outputs": [],
   "source": [
    "corr_matrix = DF[ ['price' , 'temperature', 'hour'] ].corr()"
   ]
  },
  {
   "cell_type": "code",
   "execution_count": 43,
   "id": "f0ec1aa1",
   "metadata": {},
   "outputs": [
    {
     "data": {
      "image/png": "[encoded data removed]",
      "text/plain": [
       "<Figure size 432x288 with 2 Axes>"
      ]
     },
     "metadata": {},
     "output_type": "display_data"
    }
   ],
   "source": [
    "sns.set(rc = {'figure.figsize':(6,4)})\n",
    "sns.set(font_scale=1)\n",
    "ax = sns.heatmap(corr_matrix, cmap=\"YlGnBu\", annot=True)"
   ]
  },
  {
   "cell_type": "code",
   "execution_count": 11,
   "id": "155d77a1",
   "metadata": {},
   "outputs": [],
   "source": [
    "corr_matrix2 = DF[ ['price' , 'temperature', 'humidity', 'windSpeed' , 'precipProbability','windGust','windGustTime','pressure','windBearing','cloudCover','ozone'] ].corr()"
   ]
  },
  {
   "cell_type": "code",
   "execution_count": 37,
   "id": "7c539a4e",
   "metadata": {},
   "outputs": [
    {
     "data": {
      "image/png": "[encoded data removed]",
      "text/plain": [
       "<Figure size 1080x576 with 2 Axes>"
      ]
     },
     "metadata": {},
     "output_type": "display_data"
    }
   ],
   "source": [
    "mask_ut = np.triu(  np.ones(corr_matrix2.shape)  ).astype(bool)\n",
    "\n",
    "sns.set(rc = {'figure.figsize':(15,8)})\n",
    "\n",
    "sns.set(font_scale=1)\n",
    "\n",
    "ax = sns.heatmap(corr_matrix2, mask=mask_ut, cmap=\"Spectral\", annot=True)\n",
    "\n",
    "ax.figure.savefig(\"Correlation_Heatmap_Lower_Triangle_with_Seaborn_using_mask.png\",\n",
    "                   format='png',\n",
    "                   dpi=150)"
   ]
  },
  {
   "cell_type": "code",
   "execution_count": 18,
   "id": "b6f294f1",
   "metadata": {},
   "outputs": [],
   "source": [
    "def find_skewed_features(df):\n",
    "    skewed_features = []\n",
    "    for i in df._get_numeric_data().skew().iteritems():        \n",
    "        if abs(i[1]) >= 1 :                              # condition to capture the skewed feature\n",
    "            skewed_features.append(i[0])                 # adding the feature name into the list\n",
    "    return skewed_features"
   ]
  },
  {
   "cell_type": "code",
   "execution_count": 19,
   "id": "05c003aa",
   "metadata": {},
   "outputs": [],
   "source": [
    "L = find_skewed_features(DF)                             # List of skewed columns"
   ]
  },
  {
   "cell_type": "code",
   "execution_count": 20,
   "id": "bdd3f45d",
   "metadata": {},
   "outputs": [
    {
     "data": {
      "text/plain": [
       "['price',\n",
       " 'surge_multiplier',\n",
       " 'precipIntensity',\n",
       " 'precipProbability',\n",
       " 'windGust',\n",
       " 'visibility',\n",
       " 'uvIndex',\n",
       " 'visibility.1',\n",
       " 'apparentTemperatureMin']"
      ]
     },
     "execution_count": 20,
     "metadata": {},
     "output_type": "execute_result"
    }
   ],
   "source": [
    "L"
   ]
  },
  {
   "cell_type": "code",
   "execution_count": 18,
   "id": "7eebaf2c",
   "metadata": {},
   "outputs": [],
   "source": [
    "for i in L:                                # exchanging zeros with 1e-5 in skewed columns\n",
    "    DF[i] = DF[i].replace(0,1e-5)"
   ]
  },
  {
   "cell_type": "code",
   "execution_count": 19,
   "id": "2d5b6ee3",
   "metadata": {},
   "outputs": [],
   "source": [
    "for i in L:\n",
    "    DF[i] = np.log( DF[i] )"
   ]
  },
  {
   "cell_type": "code",
   "execution_count": 20,
   "id": "c7ed1f5e",
   "metadata": {},
   "outputs": [],
   "source": [
    "L2 = list (  set(DF._get_numeric_data().columns) - set(L)  )"
   ]
  },
  {
   "cell_type": "code",
   "execution_count": 21,
   "id": "376d4123",
   "metadata": {},
   "outputs": [],
   "source": [
    "from sklearn.preprocessing import StandardScaler"
   ]
  },
  {
   "cell_type": "code",
   "execution_count": 22,
   "id": "f6be0302",
   "metadata": {},
   "outputs": [],
   "source": [
    "scaler = StandardScaler()"
   ]
  },
  {
   "cell_type": "code",
   "execution_count": 23,
   "id": "4a073fe5",
   "metadata": {},
   "outputs": [],
   "source": [
    "for i in L2:\n",
    "    DF[[i]] = scaler.fit_transform( DF[[i]]  )"
   ]
  },
  {
   "cell_type": "code",
   "execution_count": 16,
   "id": "03ca18b7",
   "metadata": {},
   "outputs": [],
   "source": [
    "L3 = Find_Cat_cols(DF)"
   ]
  },
  {
   "cell_type": "code",
   "execution_count": 17,
   "id": "ccf070af",
   "metadata": {},
   "outputs": [
    {
     "data": {
      "text/plain": [
       "['cab_type', 'destination', 'product_id', 'source']"
      ]
     },
     "execution_count": 17,
     "metadata": {},
     "output_type": "execute_result"
    }
   ],
   "source": [
    "L3             # list of categorical features"
   ]
  },
  {
   "cell_type": "code",
   "execution_count": 18,
   "id": "99d76ce8",
   "metadata": {},
   "outputs": [],
   "source": [
    "DF = pd.get_dummies(DF, columns = ['source'])"
   ]
  },
  {
   "cell_type": "code",
   "execution_count": 19,
   "id": "51b12741",
   "metadata": {},
   "outputs": [],
   "source": [
    "DF = pd.get_dummies(DF, columns = ['destination'])"
   ]
  },
  {
   "cell_type": "code",
   "execution_count": 20,
   "id": "0d6036da",
   "metadata": {},
   "outputs": [],
   "source": [
    "DF = pd.get_dummies(DF, columns = ['cab_type'])"
   ]
  },
  {
   "cell_type": "code",
   "execution_count": 21,
   "id": "d3d5442b",
   "metadata": {},
   "outputs": [],
   "source": [
    "DF = pd.get_dummies(DF, columns = ['product_id'])"
   ]
  },
  {
   "cell_type": "code",
   "execution_count": 22,
   "id": "bfe0a6f5",
   "metadata": {
    "collapsed": true
   },
   "outputs": [
    {
     "data": {
      "text/html": [
       "<div>\n",
       "<style scoped>\n",
       "    .dataframe tbody tr th:only-of-type {\n",
       "        vertical-align: middle;\n",
       "    }\n",
       "\n",
       "    .dataframe tbody tr th {\n",
       "        vertical-align: top;\n",
       "    }\n",
       "\n",
       "    .dataframe thead th {\n",
       "        text-align: right;\n",
       "    }\n",
       "</style>\n",
       "<table border=\"1\" class=\"dataframe\">\n",
       "  <thead>\n",
       "    <tr style=\"text-align: right;\">\n",
       "      <th></th>\n",
       "      <th>hour</th>\n",
       "      <th>day</th>\n",
       "      <th>month</th>\n",
       "      <th>price</th>\n",
       "      <th>distance</th>\n",
       "      <th>surge_multiplier</th>\n",
       "      <th>temperature</th>\n",
       "      <th>apparentTemperature</th>\n",
       "      <th>precipIntensity</th>\n",
       "      <th>precipProbability</th>\n",
       "      <th>...</th>\n",
       "      <th>product_id_6d318bcc-22a3-4af6-bddd-b409bfce1546</th>\n",
       "      <th>product_id_6f72dfc5-27f1-42e8-84db-ccc7a75f6969</th>\n",
       "      <th>product_id_997acbb5-e102-41e1-b155-9df7de0a73f2</th>\n",
       "      <th>product_id_9a0e7b09-b92b-4c41-9779-2ad22b4d779d</th>\n",
       "      <th>product_id_lyft</th>\n",
       "      <th>product_id_lyft_line</th>\n",
       "      <th>product_id_lyft_lux</th>\n",
       "      <th>product_id_lyft_luxsuv</th>\n",
       "      <th>product_id_lyft_plus</th>\n",
       "      <th>product_id_lyft_premier</th>\n",
       "    </tr>\n",
       "  </thead>\n",
       "  <tbody>\n",
       "    <tr>\n",
       "      <th>0</th>\n",
       "      <td>-0.376833</td>\n",
       "      <td>-0.180090</td>\n",
       "      <td>0.839574</td>\n",
       "      <td>1.609438</td>\n",
       "      <td>-1.540640</td>\n",
       "      <td>0.0</td>\n",
       "      <td>0.410021</td>\n",
       "      <td>0.156817</td>\n",
       "      <td>-11.512925</td>\n",
       "      <td>-11.512925</td>\n",
       "      <td>...</td>\n",
       "      <td>0</td>\n",
       "      <td>0</td>\n",
       "      <td>0</td>\n",
       "      <td>0</td>\n",
       "      <td>0</td>\n",
       "      <td>1</td>\n",
       "      <td>0</td>\n",
       "      <td>0</td>\n",
       "      <td>0</td>\n",
       "      <td>0</td>\n",
       "    </tr>\n",
       "    <tr>\n",
       "      <th>1</th>\n",
       "      <td>-1.384206</td>\n",
       "      <td>0.921885</td>\n",
       "      <td>-1.191081</td>\n",
       "      <td>2.397895</td>\n",
       "      <td>-1.540640</td>\n",
       "      <td>0.0</td>\n",
       "      <td>0.594394</td>\n",
       "      <td>0.185868</td>\n",
       "      <td>-2.040990</td>\n",
       "      <td>0.000000</td>\n",
       "      <td>...</td>\n",
       "      <td>0</td>\n",
       "      <td>0</td>\n",
       "      <td>0</td>\n",
       "      <td>0</td>\n",
       "      <td>0</td>\n",
       "      <td>0</td>\n",
       "      <td>0</td>\n",
       "      <td>0</td>\n",
       "      <td>0</td>\n",
       "      <td>1</td>\n",
       "    </tr>\n",
       "    <tr>\n",
       "      <th>2</th>\n",
       "      <td>-1.528116</td>\n",
       "      <td>1.022065</td>\n",
       "      <td>-1.191081</td>\n",
       "      <td>1.945910</td>\n",
       "      <td>-1.540640</td>\n",
       "      <td>0.0</td>\n",
       "      <td>-0.186218</td>\n",
       "      <td>-0.372407</td>\n",
       "      <td>-11.512925</td>\n",
       "      <td>-11.512925</td>\n",
       "      <td>...</td>\n",
       "      <td>0</td>\n",
       "      <td>0</td>\n",
       "      <td>0</td>\n",
       "      <td>0</td>\n",
       "      <td>1</td>\n",
       "      <td>0</td>\n",
       "      <td>0</td>\n",
       "      <td>0</td>\n",
       "      <td>0</td>\n",
       "      <td>0</td>\n",
       "    </tr>\n",
       "    <tr>\n",
       "      <th>3</th>\n",
       "      <td>-1.096385</td>\n",
       "      <td>1.222424</td>\n",
       "      <td>-1.191081</td>\n",
       "      <td>3.258097</td>\n",
       "      <td>-1.540640</td>\n",
       "      <td>0.0</td>\n",
       "      <td>-0.773535</td>\n",
       "      <td>-0.789218</td>\n",
       "      <td>-11.512925</td>\n",
       "      <td>-11.512925</td>\n",
       "      <td>...</td>\n",
       "      <td>0</td>\n",
       "      <td>0</td>\n",
       "      <td>0</td>\n",
       "      <td>0</td>\n",
       "      <td>0</td>\n",
       "      <td>0</td>\n",
       "      <td>0</td>\n",
       "      <td>1</td>\n",
       "      <td>0</td>\n",
       "      <td>0</td>\n",
       "    </tr>\n",
       "    <tr>\n",
       "      <th>4</th>\n",
       "      <td>-1.240295</td>\n",
       "      <td>1.122244</td>\n",
       "      <td>-1.191081</td>\n",
       "      <td>2.197225</td>\n",
       "      <td>-1.540640</td>\n",
       "      <td>0.0</td>\n",
       "      <td>-0.318550</td>\n",
       "      <td>-0.631335</td>\n",
       "      <td>-11.512925</td>\n",
       "      <td>-11.512925</td>\n",
       "      <td>...</td>\n",
       "      <td>0</td>\n",
       "      <td>0</td>\n",
       "      <td>0</td>\n",
       "      <td>0</td>\n",
       "      <td>0</td>\n",
       "      <td>0</td>\n",
       "      <td>0</td>\n",
       "      <td>0</td>\n",
       "      <td>1</td>\n",
       "      <td>0</td>\n",
       "    </tr>\n",
       "    <tr>\n",
       "      <th>...</th>\n",
       "      <td>...</td>\n",
       "      <td>...</td>\n",
       "      <td>...</td>\n",
       "      <td>...</td>\n",
       "      <td>...</td>\n",
       "      <td>...</td>\n",
       "      <td>...</td>\n",
       "      <td>...</td>\n",
       "      <td>...</td>\n",
       "      <td>...</td>\n",
       "      <td>...</td>\n",
       "      <td>...</td>\n",
       "      <td>...</td>\n",
       "      <td>...</td>\n",
       "      <td>...</td>\n",
       "      <td>...</td>\n",
       "      <td>...</td>\n",
       "      <td>...</td>\n",
       "      <td>...</td>\n",
       "      <td>...</td>\n",
       "      <td>...</td>\n",
       "    </tr>\n",
       "    <tr>\n",
       "      <th>693065</th>\n",
       "      <td>1.637912</td>\n",
       "      <td>-1.682784</td>\n",
       "      <td>0.839574</td>\n",
       "      <td>2.251292</td>\n",
       "      <td>-1.047427</td>\n",
       "      <td>0.0</td>\n",
       "      <td>-0.376538</td>\n",
       "      <td>0.147976</td>\n",
       "      <td>-11.512925</td>\n",
       "      <td>-11.512925</td>\n",
       "      <td>...</td>\n",
       "      <td>0</td>\n",
       "      <td>0</td>\n",
       "      <td>0</td>\n",
       "      <td>1</td>\n",
       "      <td>0</td>\n",
       "      <td>0</td>\n",
       "      <td>0</td>\n",
       "      <td>0</td>\n",
       "      <td>0</td>\n",
       "      <td>0</td>\n",
       "    </tr>\n",
       "    <tr>\n",
       "      <th>693066</th>\n",
       "      <td>1.637912</td>\n",
       "      <td>-1.682784</td>\n",
       "      <td>0.839574</td>\n",
       "      <td>2.564949</td>\n",
       "      <td>-1.047427</td>\n",
       "      <td>0.0</td>\n",
       "      <td>-0.376538</td>\n",
       "      <td>0.147976</td>\n",
       "      <td>-11.512925</td>\n",
       "      <td>-11.512925</td>\n",
       "      <td>...</td>\n",
       "      <td>0</td>\n",
       "      <td>1</td>\n",
       "      <td>0</td>\n",
       "      <td>0</td>\n",
       "      <td>0</td>\n",
       "      <td>0</td>\n",
       "      <td>0</td>\n",
       "      <td>0</td>\n",
       "      <td>0</td>\n",
       "      <td>0</td>\n",
       "    </tr>\n",
       "    <tr>\n",
       "      <th>693067</th>\n",
       "      <td>1.637912</td>\n",
       "      <td>-1.682784</td>\n",
       "      <td>0.839574</td>\n",
       "      <td>2.251292</td>\n",
       "      <td>-1.047427</td>\n",
       "      <td>0.0</td>\n",
       "      <td>-0.376538</td>\n",
       "      <td>0.147976</td>\n",
       "      <td>-11.512925</td>\n",
       "      <td>-11.512925</td>\n",
       "      <td>...</td>\n",
       "      <td>0</td>\n",
       "      <td>0</td>\n",
       "      <td>0</td>\n",
       "      <td>0</td>\n",
       "      <td>0</td>\n",
       "      <td>0</td>\n",
       "      <td>0</td>\n",
       "      <td>0</td>\n",
       "      <td>0</td>\n",
       "      <td>0</td>\n",
       "    </tr>\n",
       "    <tr>\n",
       "      <th>693069</th>\n",
       "      <td>1.637912</td>\n",
       "      <td>-1.682784</td>\n",
       "      <td>0.839574</td>\n",
       "      <td>3.295837</td>\n",
       "      <td>-1.047427</td>\n",
       "      <td>0.0</td>\n",
       "      <td>-0.376538</td>\n",
       "      <td>0.147976</td>\n",
       "      <td>-11.512925</td>\n",
       "      <td>-11.512925</td>\n",
       "      <td>...</td>\n",
       "      <td>1</td>\n",
       "      <td>0</td>\n",
       "      <td>0</td>\n",
       "      <td>0</td>\n",
       "      <td>0</td>\n",
       "      <td>0</td>\n",
       "      <td>0</td>\n",
       "      <td>0</td>\n",
       "      <td>0</td>\n",
       "      <td>0</td>\n",
       "    </tr>\n",
       "    <tr>\n",
       "      <th>693070</th>\n",
       "      <td>1.637912</td>\n",
       "      <td>-1.682784</td>\n",
       "      <td>0.839574</td>\n",
       "      <td>2.302585</td>\n",
       "      <td>-1.047427</td>\n",
       "      <td>0.0</td>\n",
       "      <td>-0.376538</td>\n",
       "      <td>0.147976</td>\n",
       "      <td>-11.512925</td>\n",
       "      <td>-11.512925</td>\n",
       "      <td>...</td>\n",
       "      <td>0</td>\n",
       "      <td>0</td>\n",
       "      <td>1</td>\n",
       "      <td>0</td>\n",
       "      <td>0</td>\n",
       "      <td>0</td>\n",
       "      <td>0</td>\n",
       "      <td>0</td>\n",
       "      <td>0</td>\n",
       "      <td>0</td>\n",
       "    </tr>\n",
       "  </tbody>\n",
       "</table>\n",
       "<p>637976 rows × 79 columns</p>\n",
       "</div>"
      ],
      "text/plain": [
       "            hour       day     month     price  distance  surge_multiplier  \\\n",
       "0      -0.376833 -0.180090  0.839574  1.609438 -1.540640               0.0   \n",
       "1      -1.384206  0.921885 -1.191081  2.397895 -1.540640               0.0   \n",
       "2      -1.528116  1.022065 -1.191081  1.945910 -1.540640               0.0   \n",
       "3      -1.096385  1.222424 -1.191081  3.258097 -1.540640               0.0   \n",
       "4      -1.240295  1.122244 -1.191081  2.197225 -1.540640               0.0   \n",
       "...          ...       ...       ...       ...       ...               ...   \n",
       "693065  1.637912 -1.682784  0.839574  2.251292 -1.047427               0.0   \n",
       "693066  1.637912 -1.682784  0.839574  2.564949 -1.047427               0.0   \n",
       "693067  1.637912 -1.682784  0.839574  2.251292 -1.047427               0.0   \n",
       "693069  1.637912 -1.682784  0.839574  3.295837 -1.047427               0.0   \n",
       "693070  1.637912 -1.682784  0.839574  2.302585 -1.047427               0.0   \n",
       "\n",
       "        temperature  apparentTemperature  precipIntensity  precipProbability  \\\n",
       "0          0.410021             0.156817       -11.512925         -11.512925   \n",
       "1          0.594394             0.185868        -2.040990           0.000000   \n",
       "2         -0.186218            -0.372407       -11.512925         -11.512925   \n",
       "3         -0.773535            -0.789218       -11.512925         -11.512925   \n",
       "4         -0.318550            -0.631335       -11.512925         -11.512925   \n",
       "...             ...                  ...              ...                ...   \n",
       "693065    -0.376538             0.147976       -11.512925         -11.512925   \n",
       "693066    -0.376538             0.147976       -11.512925         -11.512925   \n",
       "693067    -0.376538             0.147976       -11.512925         -11.512925   \n",
       "693069    -0.376538             0.147976       -11.512925         -11.512925   \n",
       "693070    -0.376538             0.147976       -11.512925         -11.512925   \n",
       "\n",
       "        ...  product_id_6d318bcc-22a3-4af6-bddd-b409bfce1546  \\\n",
       "0       ...                                                0   \n",
       "1       ...                                                0   \n",
       "2       ...                                                0   \n",
       "3       ...                                                0   \n",
       "4       ...                                                0   \n",
       "...     ...                                              ...   \n",
       "693065  ...                                                0   \n",
       "693066  ...                                                0   \n",
       "693067  ...                                                0   \n",
       "693069  ...                                                1   \n",
       "693070  ...                                                0   \n",
       "\n",
       "        product_id_6f72dfc5-27f1-42e8-84db-ccc7a75f6969  \\\n",
       "0                                                     0   \n",
       "1                                                     0   \n",
       "2                                                     0   \n",
       "3                                                     0   \n",
       "4                                                     0   \n",
       "...                                                 ...   \n",
       "693065                                                0   \n",
       "693066                                                1   \n",
       "693067                                                0   \n",
       "693069                                                0   \n",
       "693070                                                0   \n",
       "\n",
       "        product_id_997acbb5-e102-41e1-b155-9df7de0a73f2  \\\n",
       "0                                                     0   \n",
       "1                                                     0   \n",
       "2                                                     0   \n",
       "3                                                     0   \n",
       "4                                                     0   \n",
       "...                                                 ...   \n",
       "693065                                                0   \n",
       "693066                                                0   \n",
       "693067                                                0   \n",
       "693069                                                0   \n",
       "693070                                                1   \n",
       "\n",
       "        product_id_9a0e7b09-b92b-4c41-9779-2ad22b4d779d  product_id_lyft  \\\n",
       "0                                                     0                0   \n",
       "1                                                     0                0   \n",
       "2                                                     0                1   \n",
       "3                                                     0                0   \n",
       "4                                                     0                0   \n",
       "...                                                 ...              ...   \n",
       "693065                                                1                0   \n",
       "693066                                                0                0   \n",
       "693067                                                0                0   \n",
       "693069                                                0                0   \n",
       "693070                                                0                0   \n",
       "\n",
       "        product_id_lyft_line  product_id_lyft_lux  product_id_lyft_luxsuv  \\\n",
       "0                          1                    0                       0   \n",
       "1                          0                    0                       0   \n",
       "2                          0                    0                       0   \n",
       "3                          0                    0                       1   \n",
       "4                          0                    0                       0   \n",
       "...                      ...                  ...                     ...   \n",
       "693065                     0                    0                       0   \n",
       "693066                     0                    0                       0   \n",
       "693067                     0                    0                       0   \n",
       "693069                     0                    0                       0   \n",
       "693070                     0                    0                       0   \n",
       "\n",
       "        product_id_lyft_plus  product_id_lyft_premier  \n",
       "0                          0                        0  \n",
       "1                          0                        1  \n",
       "2                          0                        0  \n",
       "3                          0                        0  \n",
       "4                          1                        0  \n",
       "...                      ...                      ...  \n",
       "693065                     0                        0  \n",
       "693066                     0                        0  \n",
       "693067                     0                        0  \n",
       "693069                     0                        0  \n",
       "693070                     0                        0  \n",
       "\n",
       "[637976 rows x 79 columns]"
      ]
     },
     "execution_count": 22,
     "metadata": {},
     "output_type": "execute_result"
    }
   ],
   "source": [
    "DF"
   ]
  },
  {
   "cell_type": "code",
   "execution_count": 23,
   "id": "88335449",
   "metadata": {},
   "outputs": [],
   "source": [
    "y = DF['price']"
   ]
  },
  {
   "cell_type": "code",
   "execution_count": 24,
   "id": "d07054ba",
   "metadata": {},
   "outputs": [],
   "source": [
    "DF.drop('price', inplace=True, axis=1)                        # removing \"price\" column from dataframe"
   ]
  },
  {
   "cell_type": "code",
   "execution_count": 25,
   "id": "d9be3835",
   "metadata": {},
   "outputs": [],
   "source": [
    "X = DF"
   ]
  },
  {
   "cell_type": "code",
   "execution_count": 26,
   "id": "7448fe45",
   "metadata": {},
   "outputs": [
    {
     "name": "stdout",
     "output_type": "stream",
     "text": [
      "(637976, 78)\n",
      "(637976,)\n"
     ]
    }
   ],
   "source": [
    "print(np.shape(X))\n",
    "print(np.shape(y))"
   ]
  },
  {
   "cell_type": "code",
   "execution_count": 27,
   "id": "f4c66572",
   "metadata": {},
   "outputs": [],
   "source": [
    "from sklearn.model_selection import train_test_split"
   ]
  },
  {
   "cell_type": "code",
   "execution_count": 28,
   "id": "5e5abe9c",
   "metadata": {},
   "outputs": [],
   "source": [
    "X_train, X_test, y_train, y_test = train_test_split(X, y, test_size=0.3, random_state=42)"
   ]
  },
  {
   "cell_type": "code",
   "execution_count": 29,
   "id": "9577d4b9",
   "metadata": {},
   "outputs": [
    {
     "name": "stdout",
     "output_type": "stream",
     "text": [
      "(446583, 78)\n",
      "(446583,)\n",
      "(191393, 78)\n",
      "(191393,)\n"
     ]
    }
   ],
   "source": [
    "print(np.shape(X_train))\n",
    "print(np.shape(y_train))\n",
    "\n",
    "print(np.shape(X_test))\n",
    "print(np.shape(y_test))"
   ]
  },
  {
   "cell_type": "code",
   "execution_count": 30,
   "id": "54bb4301",
   "metadata": {},
   "outputs": [],
   "source": [
    "from sklearn.linear_model    import LinearRegression\n",
    "from sklearn.metrics         import mean_squared_error"
   ]
  },
  {
   "cell_type": "code",
   "execution_count": 31,
   "id": "93ef66be",
   "metadata": {},
   "outputs": [],
   "source": [
    "regressor = LinearRegression()"
   ]
  },
  {
   "cell_type": "code",
   "execution_count": 32,
   "id": "cd5c5a74",
   "metadata": {
    "scrolled": true
   },
   "outputs": [
    {
     "data": {
      "text/plain": [
       "LinearRegression()"
      ]
     },
     "execution_count": 32,
     "metadata": {},
     "output_type": "execute_result"
    }
   ],
   "source": [
    "regressor.fit(X_train, y_train)"
   ]
  },
  {
   "cell_type": "code",
   "execution_count": 33,
   "id": "408816b9",
   "metadata": {},
   "outputs": [
    {
     "data": {
      "text/plain": [
       "0.9385735182248341"
      ]
     },
     "execution_count": 33,
     "metadata": {},
     "output_type": "execute_result"
    }
   ],
   "source": [
    "regressor.score(X_train, y_train)"
   ]
  },
  {
   "cell_type": "code",
   "execution_count": 34,
   "id": "efcc8d0d",
   "metadata": {},
   "outputs": [],
   "source": [
    "y_pred_train = regressor.predict(X_train)"
   ]
  },
  {
   "cell_type": "code",
   "execution_count": 35,
   "id": "120e82fb",
   "metadata": {},
   "outputs": [
    {
     "data": {
      "text/plain": [
       "0.01986165337323572"
      ]
     },
     "execution_count": 35,
     "metadata": {},
     "output_type": "execute_result"
    }
   ],
   "source": [
    "mean_squared_error(y_pred_train, y_train)"
   ]
  },
  {
   "cell_type": "code",
   "execution_count": 36,
   "id": "99242070",
   "metadata": {},
   "outputs": [],
   "source": [
    "y_pred_test = regressor.predict(X_test)"
   ]
  },
  {
   "cell_type": "code",
   "execution_count": 37,
   "id": "ca8ad2b3",
   "metadata": {},
   "outputs": [
    {
     "data": {
      "text/plain": [
       "0.9388924047955303"
      ]
     },
     "execution_count": 37,
     "metadata": {},
     "output_type": "execute_result"
    }
   ],
   "source": [
    "regressor.score(X_test, y_test)"
   ]
  },
  {
   "cell_type": "code",
   "execution_count": 38,
   "id": "9d8f8744",
   "metadata": {},
   "outputs": [
    {
     "data": {
      "text/plain": [
       "0.019790736092785664"
      ]
     },
     "execution_count": 38,
     "metadata": {},
     "output_type": "execute_result"
    }
   ],
   "source": [
    "mean_squared_error(y_pred_test, y_test)"
   ]
  },
  {
   "cell_type": "code",
   "execution_count": 39,
   "id": "29f40bf3",
   "metadata": {
    "collapsed": true
   },
   "outputs": [
    {
     "data": {
      "text/plain": [
       "array([ 2.18849154e-05, -3.59510885e-04,  2.58706032e-04,  1.98729028e-01,\n",
       "        9.40921490e-01,  8.56514130e-03, -1.20455407e-03,  4.57133092e-05,\n",
       "       -1.35116261e-04,  4.80365772e-03, -2.13221260e-03,  3.00399667e-03,\n",
       "       -7.91355984e-03,  1.27248987e+10,  1.18629629e-01,  1.51736850e-01,\n",
       "        5.13053071e-04,  5.29006111e-02, -8.66162232e-02, -1.36325976e-01,\n",
       "        3.77483244e-04, -2.25353517e-02, -8.52928274e-03, -6.40682490e-04,\n",
       "        6.42798817e-04, -5.85905001e-04, -8.14273803e-05, -1.27248987e+10,\n",
       "       -8.42998454e-04, -3.73278740e-01,  3.43777261e-01, -3.89916444e-04,\n",
       "       -1.19984703e-03, -1.83124878e-02, -1.12142768e-01,  7.08877419e-03,\n",
       "       -2.57122663e-03,  3.10970727e-02,  7.79515565e-02, -2.84709035e-02,\n",
       "        7.55540320e+09,  7.55540320e+09,  7.35335246e+10,  7.35335246e+10,\n",
       "        7.55540320e+09,  7.35335246e+10,  7.35335246e+10,  7.55540320e+09,\n",
       "        7.35335246e+10,  7.35335246e+10,  7.55540320e+09,  7.55540320e+09,\n",
       "       -5.94427192e+10, -5.94427192e+10,  6.53540226e+09,  6.53540226e+09,\n",
       "       -5.94427192e+10,  6.53540226e+09,  6.53540226e+09, -5.94427192e+10,\n",
       "        6.53540226e+09,  6.53540226e+09, -5.94427192e+10, -5.94427192e+10,\n",
       "       -8.83998896e+09,  6.86063353e+08, -1.31527000e+10, -1.31527000e+10,\n",
       "       -1.31527000e+10, -1.31527000e+10, -1.31527000e+10, -1.31527000e+10,\n",
       "       -3.62664765e+09, -3.62664765e+09, -3.62664765e+09, -3.62664765e+09,\n",
       "       -3.62664765e+09, -3.62664765e+09])"
      ]
     },
     "execution_count": 39,
     "metadata": {},
     "output_type": "execute_result"
    }
   ],
   "source": [
    "regressor.coef_"
   ]
  },
  {
   "cell_type": "code",
   "execution_count": 40,
   "id": "375c7b9c",
   "metadata": {},
   "outputs": [
    {
     "data": {
      "text/plain": [
       "-1624168854.816694"
      ]
     },
     "execution_count": 40,
     "metadata": {},
     "output_type": "execute_result"
    }
   ],
   "source": [
    "regressor.intercept_"
   ]
  },
  {
   "cell_type": "code",
   "execution_count": 41,
   "id": "d8b4b51a",
   "metadata": {},
   "outputs": [],
   "source": [
    "from sklearn.linear_model    import Lasso\n",
    "from sklearn.linear_model    import Ridge"
   ]
  },
  {
   "cell_type": "code",
   "execution_count": 42,
   "id": "9d54a686",
   "metadata": {},
   "outputs": [],
   "source": [
    "lasso_reg = Lasso(alpha=100)\n",
    "ridge_reg = Ridge(alpha=100)"
   ]
  },
  {
   "cell_type": "code",
   "execution_count": 43,
   "id": "6923b538",
   "metadata": {},
   "outputs": [
    {
     "data": {
      "text/plain": [
       "Lasso(alpha=100)"
      ]
     },
     "execution_count": 43,
     "metadata": {},
     "output_type": "execute_result"
    }
   ],
   "source": [
    "lasso_reg.fit(X_train, y_train)"
   ]
  },
  {
   "cell_type": "code",
   "execution_count": 44,
   "id": "2c6e3901",
   "metadata": {},
   "outputs": [],
   "source": [
    "yp_train_lasso = lasso_reg.predict(X_train)"
   ]
  },
  {
   "cell_type": "code",
   "execution_count": 46,
   "id": "9d03daac",
   "metadata": {},
   "outputs": [
    {
     "data": {
      "text/plain": [
       "0.32334024022299795"
      ]
     },
     "execution_count": 46,
     "metadata": {},
     "output_type": "execute_result"
    }
   ],
   "source": [
    "mean_squared_error(yp_train_lasso, y_train)                 ############################## Lasso - alpha = 100"
   ]
  },
  {
   "cell_type": "code",
   "execution_count": 47,
   "id": "207fe4ad",
   "metadata": {},
   "outputs": [
    {
     "data": {
      "text/plain": [
       "Ridge(alpha=100)"
      ]
     },
     "execution_count": 47,
     "metadata": {},
     "output_type": "execute_result"
    }
   ],
   "source": [
    "ridge_reg.fit(X_train, y_train)"
   ]
  },
  {
   "cell_type": "code",
   "execution_count": 48,
   "id": "9fb81619",
   "metadata": {},
   "outputs": [],
   "source": [
    "yp_train_ridge = ridge_reg.predict(X_train)"
   ]
  },
  {
   "cell_type": "code",
   "execution_count": 49,
   "id": "455f2b64",
   "metadata": {},
   "outputs": [
    {
     "data": {
      "text/plain": [
       "0.019871966998250955"
      ]
     },
     "execution_count": 49,
     "metadata": {},
     "output_type": "execute_result"
    }
   ],
   "source": [
    "mean_squared_error(yp_train_ridge, y_train)                 ############################## Ridge - alpha = 100"
   ]
  },
  {
   "cell_type": "code",
   "execution_count": 50,
   "id": "ebf25c5e",
   "metadata": {},
   "outputs": [],
   "source": [
    "lasso_reg = Lasso(alpha=10)\n",
    "ridge_reg = Ridge(alpha=10)"
   ]
  },
  {
   "cell_type": "code",
   "execution_count": 51,
   "id": "32c23109",
   "metadata": {},
   "outputs": [
    {
     "data": {
      "text/plain": [
       "Lasso(alpha=10)"
      ]
     },
     "execution_count": 51,
     "metadata": {},
     "output_type": "execute_result"
    }
   ],
   "source": [
    "lasso_reg.fit(X_train, y_train)"
   ]
  },
  {
   "cell_type": "code",
   "execution_count": 52,
   "id": "14c257b1",
   "metadata": {},
   "outputs": [],
   "source": [
    "yp_train_lasso = lasso_reg.predict(X_train)"
   ]
  },
  {
   "cell_type": "code",
   "execution_count": 53,
   "id": "7a3f8fa5",
   "metadata": {},
   "outputs": [
    {
     "data": {
      "text/plain": [
       "0.32334024022299795"
      ]
     },
     "execution_count": 53,
     "metadata": {},
     "output_type": "execute_result"
    }
   ],
   "source": [
    "mean_squared_error(yp_train_lasso, y_train)                 ############################## Lasso - alpha = 10"
   ]
  },
  {
   "cell_type": "code",
   "execution_count": 54,
   "id": "b19d67a6",
   "metadata": {},
   "outputs": [
    {
     "data": {
      "text/plain": [
       "Ridge(alpha=10)"
      ]
     },
     "execution_count": 54,
     "metadata": {},
     "output_type": "execute_result"
    }
   ],
   "source": [
    "ridge_reg.fit(X_train, y_train)"
   ]
  },
  {
   "cell_type": "code",
   "execution_count": 55,
   "id": "e075532d",
   "metadata": {},
   "outputs": [],
   "source": [
    "yp_train_ridge = ridge_reg.predict(X_train)"
   ]
  },
  {
   "cell_type": "code",
   "execution_count": 56,
   "id": "3ffd42d3",
   "metadata": {},
   "outputs": [
    {
     "data": {
      "text/plain": [
       "0.01986195834540831"
      ]
     },
     "execution_count": 56,
     "metadata": {},
     "output_type": "execute_result"
    }
   ],
   "source": [
    "mean_squared_error(yp_train_ridge, y_train)                 ############################## Ridge - alpha = 10"
   ]
  },
  {
   "cell_type": "code",
   "execution_count": 57,
   "id": "90e4cbfb",
   "metadata": {},
   "outputs": [],
   "source": [
    "lasso_reg = Lasso(alpha=1)\n",
    "ridge_reg = Ridge(alpha=1)"
   ]
  },
  {
   "cell_type": "code",
   "execution_count": 58,
   "id": "15b1ce57",
   "metadata": {},
   "outputs": [
    {
     "data": {
      "text/plain": [
       "Lasso(alpha=1)"
      ]
     },
     "execution_count": 58,
     "metadata": {},
     "output_type": "execute_result"
    }
   ],
   "source": [
    "lasso_reg.fit(X_train, y_train)"
   ]
  },
  {
   "cell_type": "code",
   "execution_count": 59,
   "id": "c9fea2b2",
   "metadata": {},
   "outputs": [],
   "source": [
    "yp_train_lasso = lasso_reg.predict(X_train)"
   ]
  },
  {
   "cell_type": "code",
   "execution_count": 60,
   "id": "a16db391",
   "metadata": {},
   "outputs": [
    {
     "data": {
      "text/plain": [
       "0.32334024022299795"
      ]
     },
     "execution_count": 60,
     "metadata": {},
     "output_type": "execute_result"
    }
   ],
   "source": [
    "mean_squared_error(yp_train_lasso, y_train)                  ############################## Lasso - alpha = 1"
   ]
  },
  {
   "cell_type": "code",
   "execution_count": 61,
   "id": "9b1134eb",
   "metadata": {},
   "outputs": [
    {
     "data": {
      "text/plain": [
       "Ridge(alpha=1)"
      ]
     },
     "execution_count": 61,
     "metadata": {},
     "output_type": "execute_result"
    }
   ],
   "source": [
    "ridge_reg.fit(X_train, y_train)"
   ]
  },
  {
   "cell_type": "code",
   "execution_count": 62,
   "id": "a6070627",
   "metadata": {},
   "outputs": [],
   "source": [
    "yp_train_ridge = ridge_reg.predict(X_train)"
   ]
  },
  {
   "cell_type": "code",
   "execution_count": 63,
   "id": "643784a2",
   "metadata": {},
   "outputs": [
    {
     "data": {
      "text/plain": [
       "0.019861593211446812"
      ]
     },
     "execution_count": 63,
     "metadata": {},
     "output_type": "execute_result"
    }
   ],
   "source": [
    "mean_squared_error(yp_train_ridge, y_train)                 ############################## Ridge - alpha = 1"
   ]
  },
  {
   "cell_type": "code",
   "execution_count": 64,
   "id": "ec278648",
   "metadata": {},
   "outputs": [],
   "source": [
    "lasso_reg = Lasso(alpha=0.1)\n",
    "ridge_reg = Ridge(alpha=0.1)"
   ]
  },
  {
   "cell_type": "code",
   "execution_count": 65,
   "id": "9b797dc5",
   "metadata": {},
   "outputs": [
    {
     "data": {
      "text/plain": [
       "Lasso(alpha=0.1)"
      ]
     },
     "execution_count": 65,
     "metadata": {},
     "output_type": "execute_result"
    }
   ],
   "source": [
    "lasso_reg.fit(X_train, y_train)"
   ]
  },
  {
   "cell_type": "code",
   "execution_count": 66,
   "id": "7e5f0468",
   "metadata": {},
   "outputs": [],
   "source": [
    "yp_train_lasso = lasso_reg.predict(X_train)"
   ]
  },
  {
   "cell_type": "code",
   "execution_count": 67,
   "id": "8649ceee",
   "metadata": {},
   "outputs": [
    {
     "data": {
      "text/plain": [
       "0.29655952898745064"
      ]
     },
     "execution_count": 67,
     "metadata": {},
     "output_type": "execute_result"
    }
   ],
   "source": [
    "mean_squared_error(yp_train_lasso, y_train)                 ############################## Lasso - alpha = 0.1"
   ]
  },
  {
   "cell_type": "code",
   "execution_count": 68,
   "id": "5fdc92b2",
   "metadata": {},
   "outputs": [
    {
     "data": {
      "text/plain": [
       "Ridge(alpha=0.1)"
      ]
     },
     "execution_count": 68,
     "metadata": {},
     "output_type": "execute_result"
    }
   ],
   "source": [
    "ridge_reg.fit(X_train, y_train)"
   ]
  },
  {
   "cell_type": "code",
   "execution_count": 69,
   "id": "5a31c3db",
   "metadata": {},
   "outputs": [],
   "source": [
    "yp_train_ridge = ridge_reg.predict(X_train)"
   ]
  },
  {
   "cell_type": "code",
   "execution_count": 70,
   "id": "310299d3",
   "metadata": {},
   "outputs": [
    {
     "data": {
      "text/plain": [
       "0.019861554143177702"
      ]
     },
     "execution_count": 70,
     "metadata": {},
     "output_type": "execute_result"
    }
   ],
   "source": [
    "mean_squared_error(yp_train_ridge, y_train)                 ############################## Ridge - alpha = 0.1"
   ]
  },
  {
   "cell_type": "code",
   "execution_count": 78,
   "id": "602142ba",
   "metadata": {},
   "outputs": [],
   "source": [
    "lasso_reg = Lasso(alpha=0.01)\n",
    "ridge_reg = Ridge(alpha=0.01)"
   ]
  },
  {
   "cell_type": "code",
   "execution_count": 79,
   "id": "47eca765",
   "metadata": {},
   "outputs": [
    {
     "data": {
      "text/plain": [
       "Lasso(alpha=0.01)"
      ]
     },
     "execution_count": 79,
     "metadata": {},
     "output_type": "execute_result"
    }
   ],
   "source": [
    "lasso_reg.fit(X_train, y_train)"
   ]
  },
  {
   "cell_type": "code",
   "execution_count": 80,
   "id": "0e1b46a1",
   "metadata": {},
   "outputs": [],
   "source": [
    "yp_train_lasso = lasso_reg.predict(X_train)"
   ]
  },
  {
   "cell_type": "code",
   "execution_count": 81,
   "id": "aef466ac",
   "metadata": {},
   "outputs": [
    {
     "data": {
      "text/plain": [
       "0.03672410105219667"
      ]
     },
     "execution_count": 81,
     "metadata": {},
     "output_type": "execute_result"
    }
   ],
   "source": [
    "mean_squared_error(yp_train_lasso, y_train)                 ############################## Lasso - alpha = 0.01"
   ]
  },
  {
   "cell_type": "code",
   "execution_count": 82,
   "id": "bf1b5d8d",
   "metadata": {},
   "outputs": [
    {
     "data": {
      "text/plain": [
       "Ridge(alpha=0.01)"
      ]
     },
     "execution_count": 82,
     "metadata": {},
     "output_type": "execute_result"
    }
   ],
   "source": [
    "ridge_reg.fit(X_train, y_train)"
   ]
  },
  {
   "cell_type": "code",
   "execution_count": 83,
   "id": "3ad275c9",
   "metadata": {},
   "outputs": [],
   "source": [
    "yp_train_ridge = ridge_reg.predict(X_train)"
   ]
  },
  {
   "cell_type": "code",
   "execution_count": 84,
   "id": "213e6776",
   "metadata": {},
   "outputs": [
    {
     "data": {
      "text/plain": [
       "0.019861553373699173"
      ]
     },
     "execution_count": 84,
     "metadata": {},
     "output_type": "execute_result"
    }
   ],
   "source": [
    "mean_squared_error(yp_train_ridge, y_train)                 ############################## Ridge - alpha = 0.01"
   ]
  },
  {
   "cell_type": "code",
   "execution_count": 85,
   "id": "4295f0fe",
   "metadata": {},
   "outputs": [],
   "source": [
    "lasso_reg = Lasso(alpha=0.001)\n",
    "ridge_reg = Ridge(alpha=0.001)"
   ]
  },
  {
   "cell_type": "code",
   "execution_count": 86,
   "id": "51fc71c5",
   "metadata": {},
   "outputs": [
    {
     "data": {
      "text/plain": [
       "Lasso(alpha=0.001)"
      ]
     },
     "execution_count": 86,
     "metadata": {},
     "output_type": "execute_result"
    }
   ],
   "source": [
    "lasso_reg.fit(X_train, y_train)"
   ]
  },
  {
   "cell_type": "code",
   "execution_count": 87,
   "id": "7cabbd01",
   "metadata": {},
   "outputs": [],
   "source": [
    "yp_train_lasso = lasso_reg.predict(X_train)"
   ]
  },
  {
   "cell_type": "code",
   "execution_count": 88,
   "id": "e743739e",
   "metadata": {},
   "outputs": [
    {
     "data": {
      "text/plain": [
       "0.020346419599919233"
      ]
     },
     "execution_count": 88,
     "metadata": {},
     "output_type": "execute_result"
    }
   ],
   "source": [
    "mean_squared_error(yp_train_lasso, y_train)                 ############################## Lasso - alpha = 0.001"
   ]
  },
  {
   "cell_type": "code",
   "execution_count": 89,
   "id": "e15712cf",
   "metadata": {},
   "outputs": [
    {
     "data": {
      "text/plain": [
       "Ridge(alpha=0.001)"
      ]
     },
     "execution_count": 89,
     "metadata": {},
     "output_type": "execute_result"
    }
   ],
   "source": [
    "ridge_reg.fit(X_train, y_train)"
   ]
  },
  {
   "cell_type": "code",
   "execution_count": 90,
   "id": "775ab825",
   "metadata": {},
   "outputs": [],
   "source": [
    "yp_train_ridge = ridge_reg.predict(X_train)"
   ]
  },
  {
   "cell_type": "code",
   "execution_count": 91,
   "id": "6dc36580",
   "metadata": {},
   "outputs": [
    {
     "data": {
      "text/plain": [
       "0.01986155330646377"
      ]
     },
     "execution_count": 91,
     "metadata": {},
     "output_type": "execute_result"
    }
   ],
   "source": [
    "mean_squared_error(yp_train_ridge, y_train)                 ############################## Ridge - alpha = 0.001"
   ]
  },
  {
   "cell_type": "code",
   "execution_count": 116,
   "id": "585a85b9",
   "metadata": {},
   "outputs": [],
   "source": [
    "lasso_reg = Lasso(alpha=0.0001)\n",
    "ridge_reg = Ridge(alpha=0.0001)"
   ]
  },
  {
   "cell_type": "code",
   "execution_count": 117,
   "id": "9a54d4ee",
   "metadata": {},
   "outputs": [
    {
     "data": {
      "text/plain": [
       "Lasso(alpha=0.0001)"
      ]
     },
     "execution_count": 117,
     "metadata": {},
     "output_type": "execute_result"
    }
   ],
   "source": [
    "lasso_reg.fit(X_train, y_train)"
   ]
  },
  {
   "cell_type": "code",
   "execution_count": 95,
   "id": "97fad5c5",
   "metadata": {},
   "outputs": [],
   "source": [
    "yp_train_lasso = lasso_reg.predict(X_train)"
   ]
  },
  {
   "cell_type": "code",
   "execution_count": 96,
   "id": "d2f25d41",
   "metadata": {},
   "outputs": [
    {
     "data": {
      "text/plain": [
       "0.0198708235478914"
      ]
     },
     "execution_count": 96,
     "metadata": {},
     "output_type": "execute_result"
    }
   ],
   "source": [
    "mean_squared_error(yp_train_lasso, y_train)                 ############################## Lasso - alpha = 0.0001"
   ]
  },
  {
   "cell_type": "code",
   "execution_count": 118,
   "id": "73b81369",
   "metadata": {},
   "outputs": [
    {
     "data": {
      "text/plain": [
       "Ridge(alpha=0.0001)"
      ]
     },
     "execution_count": 118,
     "metadata": {},
     "output_type": "execute_result"
    }
   ],
   "source": [
    "ridge_reg.fit(X_train, y_train)"
   ]
  },
  {
   "cell_type": "code",
   "execution_count": 111,
   "id": "13b95846",
   "metadata": {},
   "outputs": [],
   "source": [
    "yp_train_ridge = ridge_reg.predict(X_train)"
   ]
  },
  {
   "cell_type": "code",
   "execution_count": 99,
   "id": "1f23e505",
   "metadata": {},
   "outputs": [
    {
     "data": {
      "text/plain": [
       "0.01986155315478367"
      ]
     },
     "execution_count": 99,
     "metadata": {},
     "output_type": "execute_result"
    }
   ],
   "source": [
    "mean_squared_error(yp_train_ridge, y_train)                 ############################## Ridge - alpha = 0.0001"
   ]
  },
  {
   "cell_type": "code",
   "execution_count": 102,
   "id": "1536940f",
   "metadata": {},
   "outputs": [],
   "source": [
    "yp_test_lasso = lasso_reg.predict(X_test)"
   ]
  },
  {
   "cell_type": "code",
   "execution_count": 112,
   "id": "66f748ee",
   "metadata": {},
   "outputs": [],
   "source": [
    "yp_test_ridge  = ridge_reg.predict(X_test)"
   ]
  },
  {
   "cell_type": "code",
   "execution_count": 103,
   "id": "c676972b",
   "metadata": {},
   "outputs": [
    {
     "data": {
      "text/plain": [
       "0.0197902817545189"
      ]
     },
     "execution_count": 103,
     "metadata": {},
     "output_type": "execute_result"
    }
   ],
   "source": [
    "mean_squared_error(yp_test_lasso, y_test)                 # Lasso"
   ]
  },
  {
   "cell_type": "code",
   "execution_count": 113,
   "id": "0873887e",
   "metadata": {},
   "outputs": [
    {
     "data": {
      "text/plain": [
       "0.019790559687786514"
      ]
     },
     "execution_count": 113,
     "metadata": {},
     "output_type": "execute_result"
    }
   ],
   "source": [
    "mean_squared_error(yp_test_ridge, y_test)                 # ridge"
   ]
  },
  {
   "cell_type": "code",
   "execution_count": 104,
   "id": "06d85270",
   "metadata": {},
   "outputs": [
    {
     "data": {
      "text/plain": [
       "0.019790736092785664"
      ]
     },
     "execution_count": 104,
     "metadata": {},
     "output_type": "execute_result"
    }
   ],
   "source": [
    "mean_squared_error(y_pred_test, y_test)                   # linear regression"
   ]
  },
  {
   "cell_type": "code",
   "execution_count": 119,
   "id": "0e6286f2",
   "metadata": {},
   "outputs": [
    {
     "data": {
      "text/plain": [
       "0.9388766594095166"
      ]
     },
     "execution_count": 119,
     "metadata": {},
     "output_type": "execute_result"
    }
   ],
   "source": [
    "lasso_reg.score(X_test, y_test)                           # Lasso"
   ]
  },
  {
   "cell_type": "code",
   "execution_count": 120,
   "id": "5ebc5c09",
   "metadata": {},
   "outputs": [
    {
     "data": {
      "text/plain": [
       "0.9388929494789231"
      ]
     },
     "execution_count": 120,
     "metadata": {},
     "output_type": "execute_result"
    }
   ],
   "source": [
    "ridge_reg.score(X_test, y_test)                           # ridge"
   ]
  },
  {
   "cell_type": "code",
   "execution_count": 114,
   "id": "e849480c",
   "metadata": {},
   "outputs": [
    {
     "data": {
      "text/plain": [
       "0.9388924047955303"
      ]
     },
     "execution_count": 114,
     "metadata": {},
     "output_type": "execute_result"
    }
   ],
   "source": [
    "regressor.score(X_test, y_test)                            # linear regression"
   ]
  },
  {
   "cell_type": "code",
   "execution_count": 121,
   "id": "1175fe02",
   "metadata": {},
   "outputs": [],
   "source": [
    "from sklearn.linear_model    import SGDRegressor"
   ]
  },
  {
   "cell_type": "code",
   "execution_count": 122,
   "id": "10ffedbc",
   "metadata": {},
   "outputs": [],
   "source": [
    "sgd_regressor = SGDRegressor()"
   ]
  },
  {
   "cell_type": "code",
   "execution_count": 123,
   "id": "16267b92",
   "metadata": {},
   "outputs": [
    {
     "data": {
      "text/plain": [
       "SGDRegressor()"
      ]
     },
     "execution_count": 123,
     "metadata": {},
     "output_type": "execute_result"
    }
   ],
   "source": [
    "sgd_regressor.fit(X_train, y_train)"
   ]
  },
  {
   "cell_type": "code",
   "execution_count": 124,
   "id": "8b1d7db7",
   "metadata": {},
   "outputs": [],
   "source": [
    "yp_test_sgd = sgd_regressor.predict(X_test)"
   ]
  },
  {
   "cell_type": "code",
   "execution_count": 125,
   "id": "1e457e09",
   "metadata": {},
   "outputs": [
    {
     "data": {
      "text/plain": [
       "0.9364577847742446"
      ]
     },
     "execution_count": 125,
     "metadata": {},
     "output_type": "execute_result"
    }
   ],
   "source": [
    "sgd_regressor.score(X_test, y_test)                       # SGD"
   ]
  },
  {
   "cell_type": "code",
   "execution_count": 119,
   "id": "ff3caa59",
   "metadata": {},
   "outputs": [
    {
     "data": {
      "text/plain": [
       "0.9388766594095166"
      ]
     },
     "execution_count": 119,
     "metadata": {},
     "output_type": "execute_result"
    }
   ],
   "source": [
    "lasso_reg.score(X_test, y_test)                           # Lasso"
   ]
  },
  {
   "cell_type": "code",
   "execution_count": 120,
   "id": "6bb9ab67",
   "metadata": {},
   "outputs": [
    {
     "data": {
      "text/plain": [
       "0.9388929494789231"
      ]
     },
     "execution_count": 120,
     "metadata": {},
     "output_type": "execute_result"
    }
   ],
   "source": [
    "ridge_reg.score(X_test, y_test)                           # ridge"
   ]
  },
  {
   "cell_type": "code",
   "execution_count": 114,
   "id": "bb3bdfe7",
   "metadata": {},
   "outputs": [
    {
     "data": {
      "text/plain": [
       "0.9388924047955303"
      ]
     },
     "execution_count": 114,
     "metadata": {},
     "output_type": "execute_result"
    }
   ],
   "source": [
    "regressor.score(X_test, y_test)                            # linear regression"
   ]
  },
  {
   "cell_type": "code",
   "execution_count": 127,
   "id": "2de9ad03",
   "metadata": {},
   "outputs": [
    {
     "data": {
      "text/plain": [
       "0.020579229277082223"
      ]
     },
     "execution_count": 127,
     "metadata": {},
     "output_type": "execute_result"
    }
   ],
   "source": [
    "mean_squared_error(yp_test_sgd, y_test)                   # SGD"
   ]
  },
  {
   "cell_type": "code",
   "execution_count": 103,
   "id": "221f8d4a",
   "metadata": {},
   "outputs": [
    {
     "data": {
      "text/plain": [
       "0.0197902817545189"
      ]
     },
     "execution_count": 103,
     "metadata": {},
     "output_type": "execute_result"
    }
   ],
   "source": [
    "mean_squared_error(yp_test_lasso, y_test)                 # Lasso"
   ]
  },
  {
   "cell_type": "code",
   "execution_count": 113,
   "id": "be10f663",
   "metadata": {},
   "outputs": [
    {
     "data": {
      "text/plain": [
       "0.019790559687786514"
      ]
     },
     "execution_count": 113,
     "metadata": {},
     "output_type": "execute_result"
    }
   ],
   "source": [
    "mean_squared_error(yp_test_ridge, y_test)                 # ridge"
   ]
  },
  {
   "cell_type": "code",
   "execution_count": 104,
   "id": "f283c075",
   "metadata": {},
   "outputs": [
    {
     "data": {
      "text/plain": [
       "0.019790736092785664"
      ]
     },
     "execution_count": 104,
     "metadata": {},
     "output_type": "execute_result"
    }
   ],
   "source": [
    "mean_squared_error(y_pred_test, y_test)                   # linear regression"
   ]
  }
 ],
 "metadata": {
  "kernelspec": {
   "display_name": "Python 3 (ipykernel)",
   "language": "python",
   "name": "python3"
  },
  "language_info": {
   "codemirror_mode": {
    "name": "ipython",
    "version": 3
   },
   "file_extension": ".py",
   "mimetype": "text/x-python",
   "name": "python",
   "nbconvert_exporter": "python",
   "pygments_lexer": "ipython3",
   "version": "3.12.2"
  }
 },
 "nbformat": 4,
 "nbformat_minor": 5
}
